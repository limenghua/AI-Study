{
 "cells": [
  {
   "cell_type": "code",
   "execution_count": 1,
   "metadata": {},
   "outputs": [],
   "source": [
    "import numpy as np "
   ]
  },
  {
   "cell_type": "code",
   "execution_count": 2,
   "metadata": {},
   "outputs": [],
   "source": [
    "DNA_SIZE = 24\n",
    "POP_SIZE = 200\n",
    "CROSSOVER_RATE = 0.8\n",
    "MUTATION_RATE = 0.005\n",
    "N_GENERATIONS = 50\n",
    "X_BOUND = [-3, 3]\n",
    "Y_BOUND = [-3, 3]"
   ]
  },
  {
   "cell_type": "code",
   "execution_count": 6,
   "metadata": {},
   "outputs": [],
   "source": [
    "def F(x,y):\n",
    "    return 3 * (1 - x)**2 * np.exp(-(x**2) - (y + 1)**2)\n",
    "\n",
    "def translateDNA(pop):\n",
    "    x_pop = pop[:,1::2]\n",
    "    y_pop = pop[:,::2]\n",
    "    x = x_pop.dot(2**np.arange(DNA_SIZE)[::-1])/ float(2**DNA_SIZE - 1) * (X_BOUND[1] - X_BOUND[0]) + X_BOUND[0]\n",
    "    y = y_pop.dot(2**np.arange(DNA_SIZE)[::-1])/ float(2**DNA_SIZE - 1) * (Y_BOUND[1] - Y_BOUND[0]) + Y_BOUND[0]\n",
    "    return x,y\n",
    "\n",
    "def get_best_individual(pop):\n",
    "    fitnesses = get_fitness(pop)\n",
    "    best_idx = np.argmax(fitnesses)\n",
    "    x,y = translateDNA(pop)\n",
    "    return x[best_idx],y[best_idx]\n",
    "\n",
    "def get_fitness(pop):\n",
    "    x,y = translateDNA(pop)\n",
    "    pred = F(x,y)\n",
    "    return (pred - np.min(pred)) + 1e-3\n",
    " \n",
    "def select(pop, fitness):\n",
    "    idx = np.random.choice(np.arange(POP_SIZE), size=POP_SIZE, replace=True, p=fitness/fitness.sum())\n",
    "    return pop[idx]\n",
    "\n",
    "def crossover_and_mutation(pop, CROSSOVER_RAGE = 0.8):\n",
    "    new_pop = []\n",
    "    for father in pop:\n",
    "        child = father\n",
    "        if np.random.rand() < CROSSOVER_RAGE:\n",
    "            mother = pop[np.random.randint(POP_SIZE)]\n",
    "            cross_points = np.random.randint(low=0, high=DNA_SIZE*2)\n",
    "            child[cross_points:] = mother[cross_points:]\n",
    "        mutation(child)\n",
    "        new_pop.append(child)\n",
    "    return new_pop\n",
    "\n",
    "def mutation(child, MUTATION_RATE = 0.003):\n",
    "    if np.random.rand() < MUTATION_RATE:\n",
    "        mutate_point = np.random.randint(0,DNA_SIZE)\n",
    "        child[mutate_point] = child[mutate_point] ^ 1\n",
    "\n",
    "\n",
    "def print_info(pop):\n",
    "    fitnees = get_fitness(pop)\n",
    "    max_fitness_index = np.argmax(fitnees)\n",
    "    x,y = translateDNA(pop)\n",
    "    print(\"最优秀的基因:\",pop[max_fitness_index])\n",
    "    print(\"(x,y):\",x[max_fitness_index], y[max_fitness_index])\n",
    "    print(\"适应度:\",fitnees[max_fitness_index])\n",
    "\n"
   ]
  },
  {
   "cell_type": "code",
   "execution_count": 12,
   "metadata": {},
   "outputs": [
    {
     "name": "stdout",
     "output_type": "stream",
     "text": [
      "最优秀的基因: [0 0 1 1 0 1 1 0 0 0 1 0 0 1 1 1 1 1 1 1 0 1 0 1 0 1 1 0 1 1 0 0 1 1 1 1 0\n",
      " 1 0 0 1 1 1 1 0 1 0 1]\n",
      "(x,y): -0.6567137036748947 -0.9896119826800813\n",
      "适应度: 0.0021275952093638964\n"
     ]
    }
   ],
   "source": [
    "def main():\n",
    "    pop = np.random.randint(2, size=(POP_SIZE, DNA_SIZE*2))\n",
    "    for i in range(N_GENERATIONS):\n",
    "        pop = np.array(crossover_and_mutation(pop,CROSSOVER_RATE))\n",
    "        fitness = get_fitness(pop)\n",
    "        pop = select(pop,fitness=fitness)\n",
    "        x,y = get_best_individual(pop)\n",
    "        best_val = F(x,y)\n",
    "        #print(f\"Generation {i+1}: Best Value = {best_val},x = {x},y = {y}\")\n",
    "\n",
    "    print_info(pop)\n",
    "\n",
    "main()"
   ]
  }
 ],
 "metadata": {
  "kernelspec": {
   "display_name": "base",
   "language": "python",
   "name": "python3"
  },
  "language_info": {
   "codemirror_mode": {
    "name": "ipython",
    "version": 3
   },
   "file_extension": ".py",
   "mimetype": "text/x-python",
   "name": "python",
   "nbconvert_exporter": "python",
   "pygments_lexer": "ipython3",
   "version": "3.12.7"
  }
 },
 "nbformat": 4,
 "nbformat_minor": 2
}
