{
 "cells": [
  {
   "cell_type": "code",
   "execution_count": 74,
   "id": "0cfb2263",
   "metadata": {},
   "outputs": [],
   "source": [
    "import numpy as np\n",
    "from sklearn.feature_extraction.text import CountVectorizer\n",
    "from nltk.corpus import brown\n",
    "from text_chunker import TextChunker"
   ]
  },
  {
   "cell_type": "code",
   "execution_count": 75,
   "id": "3bcb3f80",
   "metadata": {},
   "outputs": [],
   "source": [
    "def chunk_text(text, N):\n",
    "    \"\"\"\n",
    "    将文本分块\n",
    "    :param text: 待分块的文本\n",
    "    :param N: 块的大小\n",
    "    :return: 块的列表\n",
    "    \"\"\"\n",
    "    input_words = text.split(' ')\n",
    "    output = []\n",
    "    curr_chunks = []\n",
    "    count = 0\n",
    "    for word in input_words:\n",
    "        count += 1\n",
    "        if count == N:\n",
    "            output.append(' '.join(curr_chunks))\n",
    "            curr_chunks = []\n",
    "            count = 0\n",
    "        curr_chunks.append(word)\n",
    "    if curr_chunks:\n",
    "        output.append(' '.join(curr_chunks))\n",
    "    \n",
    "    return output"
   ]
  },
  {
   "cell_type": "code",
   "execution_count": 76,
   "id": "4448db5b",
   "metadata": {},
   "outputs": [
    {
     "name": "stdout",
     "output_type": "stream",
     "text": [
      "Chunk 1: The Fulton County Grand Jury said Friday an investigation of Atlanta's recent primary election produ\n",
      "Chunk 2: Rd. Aj . Henry L. Bowden was listed on the petition as the mayor's attorney . Hartsfield has been ma\n",
      "Chunk 3: House in a privilege resolution to `` endorse increased federal support for public education , provi\n",
      "Chunk 4: to provide special schooling for more deaf students in the scholastic age at a reduced cost to the s\n",
      "Chunk 5: that a water development bill passed by the Texas House of Representatives was an effort by big citi\n",
      "Chunk 6: preserving family unity . Research projects as soon as possible on the causes and prevention of depe\n",
      "Chunk 7: dismiss them . Washington , Feb. 9 -- President Kennedy today proposed a mammoth new medical care pr\n"
     ]
    }
   ],
   "source": [
    "words = brown.words()[:5600]\n",
    "input_data = ' '.join(words)\n",
    "chunk_size = 900\n",
    "chunker = TextChunker(maxlen=chunk_size)\n",
    "text_chunks = chunk_text(input_data,chunk_size)\n",
    "chunks = []\n",
    "corpos = []\n",
    "for i, chunk in enumerate(text_chunks):\n",
    "    chunks.append({'index': i, 'text': chunk})\n",
    "    corpos.append(chunk)\n",
    "    print(f\"Chunk {i+1}: {chunk[:100]}\")\n"
   ]
  },
  {
   "cell_type": "code",
   "execution_count": 77,
   "id": "91f21879",
   "metadata": {},
   "outputs": [
    {
     "name": "stdout",
     "output_type": "stream",
     "text": [
      "(7, 18)\n"
     ]
    }
   ],
   "source": [
    "vecotorizer = CountVectorizer(min_df=7,max_df=18)\n",
    "X = vecotorizer.fit_transform(corpos)\n",
    "print(X.shape)\n",
    "vecabulary = vecotorizer.get_feature_names_out()\n",
    "Arr = X.toarray().T\n",
    "m,n = Arr.shape"
   ]
  },
  {
   "cell_type": "code",
   "execution_count": 79,
   "id": "10b700b0",
   "metadata": {},
   "outputs": [
    {
     "name": "stdout",
     "output_type": "stream",
     "text": [
      "\n",
      "      Words   Chunk 1   Chunk 2   Chunk 3   Chunk 4   Chunk 5   Chunk 6   Chunk 7 \n",
      " ********************************************************************************\n",
      "\n",
      "        and        27         5        15         8        16        17         6\n",
      "\n",
      "        are         2         2         1         1         4         1         1\n",
      "\n",
      "         as         6         4         4         2         9         3         3\n",
      "\n",
      "         be         6        11         5        10         2         3         2\n",
      "\n",
      "         by         3         5         4        10        10         7         3\n",
      "\n",
      "        for         9        12         5        13         7         5         2\n",
      "\n",
      "        his         4         5         5         2         2         5         1\n",
      "\n",
      "         in        15        16        12        14        19        20         3\n",
      "\n",
      "         is         3         7         5         1         7         5         1\n",
      "\n",
      "         it         9         6        12         6         1         3         2\n",
      "\n",
      "         of        33        24        28        36        37        33         3\n",
      "\n",
      "         on         4         6         3        15         1         6         4\n",
      "\n",
      "        one         1         3         1         4         1         1         1\n",
      "\n",
      "         or         2         2         1         1         2         1         1\n",
      "\n",
      "        the        77        57        48        58        48        72         9\n",
      "\n",
      "         to        11        34        21        27        18        19         5\n",
      "\n",
      "        was         5         8         9         5         6         6         1\n",
      "\n",
      "       with         2         2         4         1         3         3         1\n"
     ]
    }
   ],
   "source": [
    "stemmer_names = [\"Chunk \" + str(i) for i in range(1,8)]\n",
    "\n",
    "formatted_text = '{:>10}' * (len(stemmer_names) + 1)\n",
    "print('\\n',formatted_text.format('Words', *stemmer_names),'\\n','*' * 80)\n",
    "\n",
    "for i in range(m):\n",
    "    word = vecabulary[i]\n",
    "    counts = Arr[i].tolist()\n",
    "    counts = [str(count) for count in counts]\n",
    "    print('\\n',formatted_text.format(word, *counts))"
   ]
  }
 ],
 "metadata": {
  "kernelspec": {
   "display_name": "base",
   "language": "python",
   "name": "python3"
  },
  "language_info": {
   "codemirror_mode": {
    "name": "ipython",
    "version": 3
   },
   "file_extension": ".py",
   "mimetype": "text/x-python",
   "name": "python",
   "nbconvert_exporter": "python",
   "pygments_lexer": "ipython3",
   "version": "3.12.7"
  }
 },
 "nbformat": 4,
 "nbformat_minor": 5
}
