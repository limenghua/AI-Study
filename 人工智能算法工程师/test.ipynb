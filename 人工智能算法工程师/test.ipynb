{
 "cells": [
  {
   "cell_type": "code",
   "execution_count": 1,
   "id": "2ad5439f",
   "metadata": {},
   "outputs": [
    {
     "name": "stdout",
     "output_type": "stream",
     "text": [
      "showing info https://raw.githubusercontent.com/nltk/nltk_data/gh-pages/index.xml\n"
     ]
    },
    {
     "data": {
      "text/plain": [
       "True"
      ]
     },
     "execution_count": 1,
     "metadata": {},
     "output_type": "execute_result"
    }
   ],
   "source": [
    "import nltk\n",
    "nltk.download()"
   ]
  },
  {
   "cell_type": "code",
   "execution_count": 2,
   "id": "d80dc0f0",
   "metadata": {},
   "outputs": [
    {
     "name": "stdout",
     "output_type": "stream",
     "text": [
      "\n",
      " Word Tokenization:\n",
      "['Hello', ',', 'world', '!', 'This', 'is', 'a', 'test', 'sentence', '.', 'It', 'contains', 'some', 'punctuation', ',', 'such', 'as', 'commas', ',', 'periods', ',', 'and', 'exclamation', 'marks', '.']\n",
      "\n",
      " Sentence Tokenization:\n",
      "['Hello, world!', 'This is a test sentence.', 'It contains some punctuation, such as commas, periods, and exclamation marks.']\n",
      "\n",
      " WordPunctTokenizer Tokenization:\n",
      "['Hello', ',', 'world', '!', 'This', 'is', 'a', 'test', 'sentence', '.', 'It', 'contains', 'some', 'punctuation', ',', 'such', 'as', 'commas', ',', 'periods', ',', 'and', 'exclamation', 'marks', '.']\n"
     ]
    }
   ],
   "source": [
    "from nltk.tokenize import word_tokenize,sent_tokenize,WordPunctTokenizer\n",
    "text = \"Hello, world! This is a test sentence. It contains some punctuation, such as commas, periods, and exclamation marks.\"\n",
    "print(\"\\n Word Tokenization:\")\n",
    "print(word_tokenize(text))\n",
    "print(\"\\n Sentence Tokenization:\")\n",
    "print(sent_tokenize(text))\n",
    "print(\"\\n WordPunctTokenizer Tokenization:\")\n",
    "print(WordPunctTokenizer().tokenize(text))"
   ]
  },
  {
   "cell_type": "code",
   "execution_count": 3,
   "id": "7ffdc67d",
   "metadata": {},
   "outputs": [
    {
     "name": "stdout",
     "output_type": "stream",
     "text": [
      "\n",
      " Word Tokenization:\n",
      "['Do', 'you', 'know', 'what', 'natural', 'language', 'processing', 'is', '?', 'This', 'is', 'a', 'very', 'interestring', 'technology', '!', 'We', \"'ll\", 'look', 'at', 'it', 'in', 'ths', 'course', '.']\n",
      "\n",
      " Sentence Tokenization:\n",
      "['Do you know what natural language processing is?This is a very interestring technology!', \"We'll look at it in ths course.\"]\n",
      "\n",
      " WordPunctTokenizer Tokenization:\n",
      "['Do', 'you', 'know', 'what', 'natural', 'language', 'processing', 'is', '?', 'This', 'is', 'a', 'very', 'interestring', 'technology', '!', 'We', \"'\", 'll', 'look', 'at', 'it', 'in', 'ths', 'course', '.']\n"
     ]
    }
   ],
   "source": [
    "text = \"Do you know what natural language processing is?\" \\\n",
    "       \"This is a very interestring technology! We'll look at it in ths course.\" \\\n",
    "\n",
    "print(\"\\n Word Tokenization:\")\n",
    "print(word_tokenize(text))\n",
    "print(\"\\n Sentence Tokenization:\")\n",
    "print(sent_tokenize(text))\n",
    "print(\"\\n WordPunctTokenizer Tokenization:\")\n",
    "print(WordPunctTokenizer().tokenize(text))"
   ]
  }
 ],
 "metadata": {
  "kernelspec": {
   "display_name": "base",
   "language": "python",
   "name": "python3"
  },
  "language_info": {
   "codemirror_mode": {
    "name": "ipython",
    "version": 3
   },
   "file_extension": ".py",
   "mimetype": "text/x-python",
   "name": "python",
   "nbconvert_exporter": "python",
   "pygments_lexer": "ipython3",
   "version": "3.12.7"
  }
 },
 "nbformat": 4,
 "nbformat_minor": 5
}
