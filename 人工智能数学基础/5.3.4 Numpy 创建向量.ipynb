{
 "cells": [
  {
   "cell_type": "markdown",
   "metadata": {},
   "source": [
    "# 1.直接创建向量"
   ]
  },
  {
   "cell_type": "code",
   "execution_count": 1,
   "metadata": {},
   "outputs": [
    {
     "name": "stdout",
     "output_type": "stream",
     "text": [
      "行向量 C: \n",
      " [[1 2 3 4 5]]\n",
      "列向量 D: \n",
      " [[1]\n",
      " [2]\n",
      " [3]\n",
      " [4]\n",
      " [5]]\n",
      "C 的维度:  2\n",
      "D 的维度:  2\n",
      "C 的形状:  (1, 5)\n",
      "D 的形状:  (5, 1)\n",
      "C 的类型:  <class 'numpy.ndarray'>\n",
      "D 的类型:  <class 'numpy.ndarray'>\n"
     ]
    }
   ],
   "source": [
    "import numpy as np\n",
    "\n",
    "# 创建向量\n",
    "A = [[1,2,3,4,5]]\n",
    "B = [[1],[2],[3],[4],[5]]\n",
    "\n",
    "C = np.array(A)\n",
    "D = np.array(B)\n",
    "\n",
    "print(\"行向量 C: \\n\",C)\n",
    "print(\"列向量 D: \\n\",D)\n",
    "\n",
    "print(\"C 的维度: \",C.ndim)\n",
    "print(\"D 的维度: \",D.ndim)\n",
    "\n",
    "print(\"C 的形状: \",C.shape)\n",
    "print(\"D 的形状: \",D.shape)\n",
    "\n",
    "print(\"C 的类型: \",type(C))\n",
    "print(\"D 的类型: \",type(D))"
   ]
  },
  {
   "cell_type": "code",
   "execution_count": 4,
   "metadata": {},
   "outputs": [
    {
     "name": "stdout",
     "output_type": "stream",
     "text": [
      "C =  [1 2 3 4 5]\n",
      "C.shape =  (5,)\n",
      "C.dtype =  int32\n",
      "C 的类型: <class 'numpy.ndarray'>\n"
     ]
    }
   ],
   "source": [
    "A = [1, 2, 3, 4, 5]\n",
    "C = np.array(A)\n",
    "print(\"C = \", C)\n",
    "print(\"C.shape = \", C.shape)\n",
    "print(\"C.dtype = \", C.dtype)\n",
    "print(\"C 的类型:\",type(C))"
   ]
  },
  {
   "cell_type": "markdown",
   "metadata": {},
   "source": [
    "# 2.随机生成向量"
   ]
  },
  {
   "cell_type": "code",
   "execution_count": 5,
   "metadata": {},
   "outputs": [
    {
     "name": "stdout",
     "output_type": "stream",
     "text": [
      "创建三维行向量，随机数组成: \n",
      " [[0.67443099 0.74280324 0.57564829]]\n",
      "创建三维列向量，随机数组成: \n",
      " [[0.52518423]\n",
      " [0.27906428]\n",
      " [0.69623028]]\n",
      "创建三维行向量，随机整数数组成: \n",
      " [[ 9  9 13]]\n",
      "创建三维列向量，随机整数数组成: \n",
      " [[ 5]\n",
      " [17]\n",
      " [ 3]]\n"
     ]
    }
   ],
   "source": [
    "import numpy as np\n",
    "arr1 = np.random.random((1,3))\n",
    "arr2 = np.random.random((3,1))\n",
    "arr3 = np.random.randint(3,30,size=(1,3))\n",
    "arr4 = np.random.randint(3,30,size=(3,1))\n",
    "\n",
    "print(\"创建三维行向量，随机数组成: \\n\", arr1)\n",
    "print(\"创建三维列向量，随机数组成: \\n\", arr2)\n",
    "print(\"创建三维行向量，随机整数数组成: \\n\", arr3)\n",
    "print(\"创建三维列向量，随机整数数组成: \\n\", arr4)"
   ]
  },
  {
   "cell_type": "code",
   "execution_count": 6,
   "metadata": {},
   "outputs": [
    {
     "name": "stdout",
     "output_type": "stream",
     "text": [
      "arr= [0.54642035 0.97394855 0.63223805 0.37392695 0.35255658]\n"
     ]
    }
   ],
   "source": [
    "# 随机生成1维数组\n",
    "import numpy as np\n",
    "\n",
    "# 随机生成1维数组\n",
    "arr = np.random.rand(5)\n",
    "print(\"arr=\",arr)"
   ]
  },
  {
   "cell_type": "markdown",
   "metadata": {},
   "source": [
    "# 通过reshape 生成向量"
   ]
  },
  {
   "cell_type": "code",
   "execution_count": 7,
   "metadata": {},
   "outputs": [
    {
     "name": "stdout",
     "output_type": "stream",
     "text": [
      "1维数组: [ 1  2  3  4  5  6  7  8  9 10]\n",
      "行向量 C: [[ 1  2  3  4  5  6  7  8  9 10]]\n",
      "列向量 D: [[ 1]\n",
      " [ 2]\n",
      " [ 3]\n",
      " [ 4]\n",
      " [ 5]\n",
      " [ 6]\n",
      " [ 7]\n",
      " [ 8]\n",
      " [ 9]\n",
      " [10]]\n"
     ]
    }
   ],
   "source": [
    "# 通过reshape 生成向量\n",
    "import numpy as np\n",
    "\n",
    "A= [1,2,3,4,5,6,7,8,9,10]\n",
    "B = np.array(A)\n",
    "C = B.reshape(1,-1)\n",
    "D = C.reshape(-1,1)\n",
    "print(\"1维数组:\",B)\n",
    "print(\"行向量 C:\",C)\n",
    "print(\"列向量 D:\",D)"
   ]
  }
 ],
 "metadata": {
  "kernelspec": {
   "display_name": "base",
   "language": "python",
   "name": "python3"
  },
  "language_info": {
   "codemirror_mode": {
    "name": "ipython",
    "version": 3
   },
   "file_extension": ".py",
   "mimetype": "text/x-python",
   "name": "python",
   "nbconvert_exporter": "python",
   "pygments_lexer": "ipython3",
   "version": "3.12.7"
  }
 },
 "nbformat": 4,
 "nbformat_minor": 2
}
