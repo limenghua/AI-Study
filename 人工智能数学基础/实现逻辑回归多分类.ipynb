{
 "cells": [
  {
   "cell_type": "markdown",
   "metadata": {},
   "source": [
    "逻辑回归多分类已经具备了一些神经网络的雏形，\n",
    "1. 输入层：输入特征向量\n",
    "2. 输出层：输出分类结果\n",
    "3. sigmod函数：将输入特征映射到0-1之间，相当于激活函数\n",
    "4. 损失函数：二次损失函数\n",
    "5. 优化算法：梯度下降法\n",
    "6. 输入层到输出层的权重矩阵：W\n",
    "7. 偏置项：b\n",
    "\n",
    "下面我们来实现逻辑回归多分类。"
   ]
  },
  {
   "cell_type": "code",
   "execution_count": null,
   "metadata": {},
   "outputs": [],
   "source": [
    "import numpy as np"
   ]
  },
  {
   "cell_type": "code",
   "execution_count": 22,
   "metadata": {},
   "outputs": [],
   "source": [
    "from sklearn.datasets import load_iris\n",
    "iris = load_iris()\n",
    "X = iris.data\n",
    "y = iris.target\n",
    "from sklearn.model_selection import train_test_split\n",
    "X_train, X_test, y_train, y_test = train_test_split(X, y, test_size=0.3, random_state=42)"
   ]
  },
  {
   "cell_type": "code",
   "execution_count": 23,
   "metadata": {},
   "outputs": [],
   "source": [
    "from sklearn.preprocessing import OneHotEncoder\n",
    "encoder = OneHotEncoder(categories='auto')\n",
    "y_train_onehot = encoder.fit_transform(y_train.reshape(-1, 1)).toarray()\n",
    "y_test_onehot = encoder.transform(y_test.reshape(-1, 1)).toarray()"
   ]
  },
  {
   "cell_type": "code",
   "execution_count": null,
   "metadata": {},
   "outputs": [
    {
     "data": {
      "text/plain": [
       "(150, 3)"
      ]
     },
     "execution_count": 6,
     "metadata": {},
     "output_type": "execute_result"
    }
   ],
   "source": [
    "y_train.shape\n"
   ]
  },
  {
   "cell_type": "code",
   "execution_count": 25,
   "metadata": {},
   "outputs": [],
   "source": [
    "def sigmoid(z):\n",
    "    return 1 / (1 + np.exp(-z))\n",
    "\n",
    "def sigmoid_derivative(z):\n",
    "    return sigmoid(z) * (1 - sigmoid(z))\n",
    "\n",
    "class LogisticRegression:\n",
    "    def __init__(self, learning_rate=0.01, num_iterations=1000):\n",
    "        self.learning_rate = learning_rate\n",
    "        self.num_iterations = num_iterations\n",
    "        self.weights = None\n",
    "        self.bias = None\n",
    "\n",
    "    def fit(self, X, y):\n",
    "        n_samples, n_features = X.shape\n",
    "        n_classes = y.shape[1]\n",
    "\n",
    "        self.weights = np.zeros((n_features, n_classes))\n",
    "        self.bias = np.zeros((1, n_classes))\n",
    "\n",
    "\n",
    "        for i in range(self.num_iterations):\n",
    "            # Forward propagation\n",
    "            \n",
    "            linear_output = np.dot(X, self.weights) + self.bias\n",
    "            probabilities = sigmoid(linear_output)\n",
    "            z_derivative = sigmoid_derivative(linear_output)\n",
    "\n",
    "            z_derivative = z_derivative * (probabilities - y)         \n",
    "\n",
    "            # Backward propagation\n",
    "            dw = (1 / n_samples) * np.dot(X.T, z_derivative)\n",
    "            db = (1 / n_samples) * np.sum(z_derivative, axis=0)\n",
    "\n",
    "            # Update weights and bias\n",
    "            self.weights -= self.learning_rate * dw\n",
    "            self.bias -= self.learning_rate * db\n",
    "\n",
    "            # Print the cost every 100 iterations\n",
    "            if i % 1000 == 0:\n",
    "                # Compute cost function\n",
    "                cost = (-1 / n_samples) * np.sum(y * np.log(probabilities) + (1 - y) * np.log(1 - probabilities))\n",
    "                print(f\"Cost after iteration {i}: {cost}\")\n",
    "\n",
    "\n",
    "\n",
    "    \n",
    "    def predict(self, X):\n",
    "        linear_output = np.dot(X, self.weights) + self.bias\n",
    "        probabilities = sigmoid(linear_output)\n",
    "        return probabilities\n",
    "    \n"
   ]
  },
  {
   "cell_type": "code",
   "execution_count": 26,
   "metadata": {},
   "outputs": [
    {
     "name": "stdout",
     "output_type": "stream",
     "text": [
      "Cost after iteration 0: 2.079441541679836\n",
      "Cost after iteration 1000: 1.2885968536649943\n",
      "Cost after iteration 2000: 1.1406634723322193\n",
      "Cost after iteration 3000: 1.066255657793502\n",
      "Cost after iteration 4000: 1.017360265822469\n",
      "Cost after iteration 5000: 0.9810968892580871\n",
      "Cost after iteration 6000: 0.9523796181122189\n",
      "Cost after iteration 7000: 0.9287073093842226\n",
      "Cost after iteration 8000: 0.908663165612856\n",
      "Cost after iteration 9000: 0.8913621204295719\n"
     ]
    }
   ],
   "source": [
    "model = LogisticRegression(num_iterations=10000)\n",
    "model.fit(X_train, y_train_onehot)"
   ]
  },
  {
   "cell_type": "code",
   "execution_count": 27,
   "metadata": {},
   "outputs": [
    {
     "data": {
      "text/plain": [
       "0.9333333333333333"
      ]
     },
     "execution_count": 27,
     "metadata": {},
     "output_type": "execute_result"
    }
   ],
   "source": [
    "y_train_pred = model.predict(X_train)\n",
    "y_train_class = np.argmax(y_train_pred, axis=1)\n",
    "\n",
    "from sklearn.metrics import accuracy_score\n",
    "accuracy_score(y_train, y_train_class)"
   ]
  },
  {
   "cell_type": "code",
   "execution_count": 29,
   "metadata": {},
   "outputs": [
    {
     "data": {
      "text/plain": [
       "0.9555555555555556"
      ]
     },
     "execution_count": 29,
     "metadata": {},
     "output_type": "execute_result"
    }
   ],
   "source": [
    "y_test_pred = model.predict(X_test)\n",
    "y_test_class = np.argmax(y_test_pred, axis=1)\n",
    "\n",
    "from sklearn.metrics import accuracy_score\n",
    "accuracy_score(y_test, y_test_class)"
   ]
  }
 ],
 "metadata": {
  "kernelspec": {
   "display_name": "base",
   "language": "python",
   "name": "python3"
  },
  "language_info": {
   "codemirror_mode": {
    "name": "ipython",
    "version": 3
   },
   "file_extension": ".py",
   "mimetype": "text/x-python",
   "name": "python",
   "nbconvert_exporter": "python",
   "pygments_lexer": "ipython3",
   "version": "3.12.7"
  }
 },
 "nbformat": 4,
 "nbformat_minor": 2
}
