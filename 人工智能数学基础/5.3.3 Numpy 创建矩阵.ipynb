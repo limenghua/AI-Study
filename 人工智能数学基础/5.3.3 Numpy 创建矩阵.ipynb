{
 "cells": [
  {
   "cell_type": "markdown",
   "metadata": {},
   "source": [
    "# 1. 直接定义"
   ]
  },
  {
   "cell_type": "code",
   "execution_count": null,
   "metadata": {},
   "outputs": [],
   "source": [
    "# 5.3.3 矩阵的创建\n",
    "import numpy as np\n",
    "\n",
    "# 创建矩阵\n",
    "A = [[1, 2, 3,4], [5, 6, 7, 8], [9, 10, 11, 12]]\n",
    "arr1 = np.array(A)\n",
    "print(\"A=\",A)\n",
    "print(\"通过array函数创建的矩阵arr1=\",arr1)\n",
    "\n",
    "B = ((1,2,3,4), (5,6,7,8), (9,10,11,12))\n",
    "arr2 = np.array(B)\n",
    "print(\"B=\",B)\n",
    "print(\"通过array函数创建的矩阵arr2=\",arr2)"
   ]
  },
  {
   "cell_type": "code",
   "execution_count": 6,
   "metadata": {},
   "outputs": [
    {
     "name": "stdout",
     "output_type": "stream",
     "text": [
      "A 的类型 <class 'list'>\n",
      "B 的类型 <class 'tuple'>\n",
      "arr1 的类型 <class 'numpy.ndarray'>\n",
      "arr2 的类型 <class 'numpy.ndarray'>\n",
      "arr1 的形状 (3, 4)\n",
      "arr2 的形状 (3, 4)\n"
     ]
    }
   ],
   "source": [
    "print(\"A 的类型\", type(A))\n",
    "print(\"B 的类型\", type(B))\n",
    "print(\"arr1 的类型\", type(arr1))\n",
    "print(\"arr2 的类型\", type(arr2))\n",
    "\n",
    "\n",
    "print(\"arr1 的形状\", arr1.shape)\n",
    "print(\"arr2 的形状\", arr2.shape)"
   ]
  },
  {
   "cell_type": "markdown",
   "metadata": {},
   "source": [
    "# 2. 间接创建"
   ]
  },
  {
   "cell_type": "code",
   "execution_count": 10,
   "metadata": {},
   "outputs": [
    {
     "name": "stdout",
     "output_type": "stream",
     "text": [
      "[[0.58369079 0.91998574 0.21025147 0.54647012]\n",
      " [0.71212989 0.42880765 0.32409135 0.13261073]\n",
      " [0.67821398 0.10030949 0.66655573 0.83080283]]\n",
      "[[28 15 14 28]\n",
      " [18  8 14 12]\n",
      " [24 27 10  4]]\n"
     ]
    }
   ],
   "source": [
    "# (1) 随机生成矩阵元素\n",
    "import numpy as np\n",
    "\n",
    "# 随机生成 3x4 矩阵\n",
    "arr1 = np.random.random((3, 4))\n",
    "print(arr1)\n",
    "\n",
    "# 随机生成int 型 3x4 矩阵\n",
    "arr2 = np.random.randint(3,30, size=(3, 4))\n",
    "print(arr2)\n",
    "\n"
   ]
  },
  {
   "cell_type": "code",
   "execution_count": 13,
   "metadata": {},
   "outputs": [
    {
     "name": "stdout",
     "output_type": "stream",
     "text": [
      "[[1]\n",
      " [2]\n",
      " [3]] \n",
      "\n",
      "[[1 2 3]] \n",
      "\n",
      "[[1 2 3]\n",
      " [4 5 6]]\n",
      "[[1 2]\n",
      " [3 4]\n",
      " [5 6]]\n"
     ]
    }
   ],
   "source": [
    "# 通过reshape()函数可以将矩阵的维度改变，reshape(m,n)表示将矩阵的行数m和列数n改变为m行n列。\n",
    "# 例如，将一个1行3列的矩阵reshape成3行1列的矩阵，代码如下：\n",
    "\n",
    "import numpy as np\n",
    "\n",
    "a = np.array([[1, 2, 3]])\n",
    "b = a.reshape(3, 1)\n",
    "print(b,\"\\n\")\n",
    "\n",
    "\n",
    "# 也可以将一个3行1列的矩阵reshape成1行3列的矩阵，代码如下：\n",
    "\n",
    "a = np.array([[1], [2], [3]])\n",
    "b = a.reshape(1, 3)\n",
    "print(b,\"\\n\")\n",
    "\n",
    "A = [1,2,3,4,5,6]\n",
    "B = np.array(A)\n",
    "C1 = B.reshape(2,3)\n",
    "C2 = B.reshape(3,2)\n",
    "print(C1)\n",
    "print(C2)    \n",
    "# 注意reshape的顺序，C1是先reshape成2行3列，再reshape成3行2列，C2是先reshape成3行2列，再reshape成2行3列\n",
    "\n"
   ]
  },
  {
   "cell_type": "markdown",
   "metadata": {},
   "source": [
    "# 3 矩阵元素的存取操作"
   ]
  },
  {
   "cell_type": "code",
   "execution_count": 17,
   "metadata": {},
   "outputs": [
    {
     "name": "stdout",
     "output_type": "stream",
     "text": [
      "输出C1: [[1 2 3]\n",
      " [4 5 6]]\n",
      "输出C2: [[1 2]\n",
      " [3 4]\n",
      " [5 6]]\n",
      "输出C1 的第0行元素: [1 2 3]\n",
      "输出C1 的前2行元素: [[1 2 3]\n",
      " [4 5 6]]\n",
      "输出C2 第0行和第2行的元素: [[1 2]\n",
      " [5 6]]\n",
      "输出C1 的第1列元素: [2 5]\n",
      "输出C2 的第0行元素: [1 2]\n"
     ]
    }
   ],
   "source": [
    "import numpy as np\n",
    "A = [1,2,3,4,5,6]\n",
    "B = np.array(A)\n",
    "C1 = B.reshape(2,3)\n",
    "C2 = B.reshape(3,2)\n",
    "\n",
    "print(\"输出C1:\", C1)\n",
    "print(\"输出C2:\", C2)\n",
    "\n",
    "print(\"输出C1 的第0行元素:\", C1[0])\n",
    "print(\"输出C1 的前2行元素:\", C1[0:2])\n",
    "print(\"输出C2 第0行和第2行的元素:\", C2[[0,2]])\n",
    "print(\"输出C1 的第1列元素:\", C1[:,1])\n",
    "print(\"输出C2 的第0行元素:\", C2[0])\n"
   ]
  },
  {
   "cell_type": "code",
   "execution_count": null,
   "metadata": {},
   "outputs": [],
   "source": []
  }
 ],
 "metadata": {
  "kernelspec": {
   "display_name": "base",
   "language": "python",
   "name": "python3"
  },
  "language_info": {
   "codemirror_mode": {
    "name": "ipython",
    "version": 3
   },
   "file_extension": ".py",
   "mimetype": "text/x-python",
   "name": "python",
   "nbconvert_exporter": "python",
   "pygments_lexer": "ipython3",
   "version": "3.12.7"
  }
 },
 "nbformat": 4,
 "nbformat_minor": 2
}
