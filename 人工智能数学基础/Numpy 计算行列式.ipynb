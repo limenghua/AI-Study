{
 "cells": [
  {
   "cell_type": "code",
   "execution_count": 1,
   "metadata": {},
   "outputs": [
    {
     "name": "stdout",
     "output_type": "stream",
     "text": [
      "行列式的值为： 40.0\n",
      "解的结果为： [0.625 0.375 2.25  0.5  ]\n"
     ]
    }
   ],
   "source": [
    "import numpy as np\n",
    "\n",
    "# 定义矩阵\n",
    "A = np.array([[3,1,-1, 2], [-5,1, 3,-4], [2,0,1,-1],[1,-5,3,-3]])\n",
    "# 计算行列式\n",
    "det = np.linalg.det(A)\n",
    "print(\"行列式的值为：\", det)\n",
    "\n",
    "b = np.array([1,2,3,4])\n",
    "\n",
    "# 求解线性方程组 Ax = b\n",
    "x = np.linalg.solve(A, b)\n",
    "print(\"解的结果为：\", x)"
   ]
  },
  {
   "cell_type": "code",
   "execution_count": 2,
   "metadata": {},
   "outputs": [
    {
     "name": "stdout",
     "output_type": "stream",
     "text": [
      "[[-0.125 -0.125  0.4   -0.05 ]\n",
      " [ 0.125  0.125  0.2   -0.15 ]\n",
      " [ 1.75   0.75  -1.     0.5  ]\n",
      " [ 1.5    0.5   -1.2    0.4  ]]\n",
      "40.0\n",
      "0.02499999999999999\n"
     ]
    }
   ],
   "source": [
    "A_inv = np.linalg.inv(A)\n",
    "det_A = np.linalg.det(A)\n",
    "print(A_inv)\n",
    "print(det_A)\n",
    "det_A_inv = np.linalg.det(A_inv)\n",
    "print(det_A_inv)"
   ]
  },
  {
   "cell_type": "code",
   "execution_count": 3,
   "metadata": {},
   "outputs": [
    {
     "name": "stdout",
     "output_type": "stream",
     "text": [
      "[[ 1.00000000e+00  2.22044605e-16 -8.88178420e-16 -1.11022302e-16]\n",
      " [ 0.00000000e+00  1.00000000e+00  0.00000000e+00  0.00000000e+00]\n",
      " [ 2.22044605e-16  3.88578059e-16  1.00000000e+00  0.00000000e+00]\n",
      " [ 0.00000000e+00  0.00000000e+00  4.44089210e-16  1.00000000e+00]]\n"
     ]
    }
   ],
   "source": [
    "C = np.dot(A,A_inv)\n",
    "print(C)"
   ]
  },
  {
   "cell_type": "code",
   "execution_count": 4,
   "metadata": {},
   "outputs": [
    {
     "name": "stdout",
     "output_type": "stream",
     "text": [
      "[[ 1.00000000e+00  2.22044605e-16 -8.88178420e-16 -1.11022302e-16]\n",
      " [ 0.00000000e+00  1.00000000e+00  0.00000000e+00  0.00000000e+00]\n",
      " [ 2.22044605e-16  3.88578059e-16  1.00000000e+00  0.00000000e+00]\n",
      " [ 0.00000000e+00  0.00000000e+00  4.44089210e-16  1.00000000e+00]]\n"
     ]
    }
   ],
   "source": [
    "C2 = A @ A_inv\n",
    "print (C2)"
   ]
  },
  {
   "cell_type": "code",
   "execution_count": 5,
   "metadata": {},
   "outputs": [
    {
     "name": "stdout",
     "output_type": "stream",
     "text": [
      "[[-0.375 -0.125 -0.4   -0.1  ]\n",
      " [-0.625  0.125  0.6    0.6  ]\n",
      " [ 3.5    0.    -1.    -0.5  ]\n",
      " [ 1.5   -2.5   -3.6   -1.2  ]]\n"
     ]
    }
   ],
   "source": [
    "C3 = A * A_inv\n",
    "print(C3)"
   ]
  },
  {
   "cell_type": "code",
   "execution_count": 6,
   "metadata": {},
   "outputs": [
    {
     "data": {
      "text/plain": [
       "0.9999999999999991"
      ]
     },
     "execution_count": 6,
     "metadata": {},
     "output_type": "execute_result"
    }
   ],
   "source": [
    "np.linalg.det(C2)"
   ]
  },
  {
   "cell_type": "code",
   "execution_count": 7,
   "metadata": {},
   "outputs": [
    {
     "ename": "ModuleNotFoundError",
     "evalue": "No module named 'torch'",
     "output_type": "error",
     "traceback": [
      "\u001b[1;31m---------------------------------------------------------------------------\u001b[0m",
      "\u001b[1;31mModuleNotFoundError\u001b[0m                       Traceback (most recent call last)",
      "Cell \u001b[1;32mIn[7], line 1\u001b[0m\n\u001b[1;32m----> 1\u001b[0m \u001b[38;5;28;01mimport\u001b[39;00m \u001b[38;5;21;01mtorch\u001b[39;00m\n",
      "\u001b[1;31mModuleNotFoundError\u001b[0m: No module named 'torch'"
     ]
    }
   ],
   "source": [
    "import torch"
   ]
  }
 ],
 "metadata": {
  "kernelspec": {
   "display_name": "base",
   "language": "python",
   "name": "python3"
  },
  "language_info": {
   "codemirror_mode": {
    "name": "ipython",
    "version": 3
   },
   "file_extension": ".py",
   "mimetype": "text/x-python",
   "name": "python",
   "nbconvert_exporter": "python",
   "pygments_lexer": "ipython3",
   "version": "3.12.7"
  }
 },
 "nbformat": 4,
 "nbformat_minor": 2
}
