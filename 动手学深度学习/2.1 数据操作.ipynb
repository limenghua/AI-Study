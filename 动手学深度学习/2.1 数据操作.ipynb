{
 "cells": [
  {
   "cell_type": "code",
   "execution_count": 3,
   "id": "f298bf67",
   "metadata": {},
   "outputs": [
    {
     "name": "stdout",
     "output_type": "stream",
     "text": [
      "tensor([ 0,  1,  2,  3,  4,  5,  6,  7,  8,  9, 10, 11])\n",
      "torch.Size([12])\n",
      "torch.int64\n",
      "torch.Size([12])\n"
     ]
    }
   ],
   "source": [
    "# 2.1.1 入门\n",
    "import torch\n",
    "\n",
    "x = torch.arange(12)\n",
    "print(x)\n",
    "print(x.shape)\n",
    "print(x.dtype)\n",
    "print(x.size())"
   ]
  },
  {
   "cell_type": "code",
   "execution_count": 4,
   "id": "805f0fd7",
   "metadata": {},
   "outputs": [
    {
     "name": "stdout",
     "output_type": "stream",
     "text": [
      "tensor([[ 0,  1,  2,  3],\n",
      "        [ 4,  5,  6,  7],\n",
      "        [ 8,  9, 10, 11]])\n",
      "torch.Size([3, 4])\n",
      "torch.int64\n"
     ]
    }
   ],
   "source": [
    "X = x.reshape(3, 4)\n",
    "print(X)\n",
    "print(X.shape)\n",
    "print(X.dtype)"
   ]
  },
  {
   "cell_type": "code",
   "execution_count": 5,
   "id": "36c6a045",
   "metadata": {},
   "outputs": [
    {
     "name": "stdout",
     "output_type": "stream",
     "text": [
      "tensor([[[0., 0., 0., 0.],\n",
      "         [0., 0., 0., 0.],\n",
      "         [0., 0., 0., 0.]],\n",
      "\n",
      "        [[0., 0., 0., 0.],\n",
      "         [0., 0., 0., 0.],\n",
      "         [0., 0., 0., 0.]]])\n",
      "tensor([[[1., 1., 1., 1.],\n",
      "         [1., 1., 1., 1.],\n",
      "         [1., 1., 1., 1.]],\n",
      "\n",
      "        [[1., 1., 1., 1.],\n",
      "         [1., 1., 1., 1.],\n",
      "         [1., 1., 1., 1.]]])\n"
     ]
    }
   ],
   "source": [
    "zero = torch.zeros((2, 3, 4))\n",
    "print(zero)\n",
    "\n",
    "ones = torch.ones((2, 3, 4))\n",
    "print(ones)"
   ]
  },
  {
   "cell_type": "code",
   "execution_count": 6,
   "id": "02fe2262",
   "metadata": {},
   "outputs": [
    {
     "name": "stdout",
     "output_type": "stream",
     "text": [
      "tensor([[0.4997, 0.4236, 0.2611, 0.6607],\n",
      "        [0.1673, 0.7044, 0.6949, 0.7340],\n",
      "        [0.3399, 0.8635, 0.9260, 0.2847]])\n"
     ]
    }
   ],
   "source": [
    "rand = torch.rand(3, 4)\n",
    "print(rand)"
   ]
  },
  {
   "cell_type": "code",
   "execution_count": 7,
   "id": "0d0d2db9",
   "metadata": {},
   "outputs": [
    {
     "name": "stdout",
     "output_type": "stream",
     "text": [
      "tensor([[2, 1, 4, 3],\n",
      "        [5, 6, 1, 2],\n",
      "        [4, 5, 6, 7]])\n",
      "torch.Size([3, 4])\n",
      "torch.int64\n"
     ]
    }
   ],
   "source": [
    "arr = torch.tensor([[2,1,4,3], [5, 6, 1, 2], [4, 5, 6,7]])\n",
    "print(arr)\n",
    "print(arr.shape)\n",
    "print(arr.dtype)"
   ]
  },
  {
   "cell_type": "code",
   "execution_count": 15,
   "id": "7d451530",
   "metadata": {},
   "outputs": [
    {
     "name": "stdout",
     "output_type": "stream",
     "text": [
      "tensor([1., 2., 4., 8.])\n",
      "tensor([2, 2, 2, 2]) tensor([ 3.,  4.,  6., 10.]) tensor([-1.,  0.,  2.,  6.]) tensor([ 2.,  4.,  8., 16.]) tensor([0.5000, 1.0000, 2.0000, 4.0000]) tensor([ 1.,  4., 16., 64.])\n"
     ]
    }
   ],
   "source": [
    "# 2.1.2 运算符\n",
    "x = torch.tensor([1.0, 2, 4,8])\n",
    "print(x)\n",
    "y = torch.tensor([2, 2, 2, 2])\n",
    "print(y,x + y,x - y,x * y,x / y,x ** y)"
   ]
  },
  {
   "cell_type": "code",
   "execution_count": 9,
   "id": "1085ce9c",
   "metadata": {},
   "outputs": [
    {
     "name": "stdout",
     "output_type": "stream",
     "text": [
      "tensor([2.7183e+00, 7.3891e+00, 5.4598e+01, 2.9810e+03])\n",
      "tensor([0.0000, 0.6931, 1.3863, 2.0794])\n"
     ]
    }
   ],
   "source": [
    "print(torch.exp(x))\n",
    "print(torch.log(x))"
   ]
  },
  {
   "cell_type": "code",
   "execution_count": 18,
   "id": "9826821e",
   "metadata": {},
   "outputs": [
    {
     "name": "stdout",
     "output_type": "stream",
     "text": [
      "(tensor([[ 0.,  1.,  2.,  3.],\n",
      "        [ 4.,  5.,  6.,  7.],\n",
      "        [ 8.,  9., 10., 11.],\n",
      "        [ 2.,  1.,  4.,  3.],\n",
      "        [ 1.,  2.,  3.,  4.],\n",
      "        [ 4.,  3.,  2.,  1.]]),)\n",
      "tensor([[ 0.,  1.,  2.,  3.,  2.,  1.,  4.,  3.],\n",
      "        [ 4.,  5.,  6.,  7.,  1.,  2.,  3.,  4.],\n",
      "        [ 8.,  9., 10., 11.,  4.,  3.,  2.,  1.]])\n",
      "tensor([[False,  True, False,  True],\n",
      "        [False, False, False, False],\n",
      "        [False, False, False, False]])\n",
      "tensor(66.)\n"
     ]
    }
   ],
   "source": [
    "X = torch.arange(12,dtype=torch.float32).reshape(3,4)\n",
    "Y = torch.tensor([[2.0,1,4,3],[1,2,3,4],[4,3,2,1]])\n",
    "XY0 = torch.cat((X,Y),dim=0),\n",
    "XY1 = torch.cat((X,Y),dim=1)\n",
    "print(XY0)\n",
    "print(XY1)\n",
    "print(X == Y)\n",
    "print(X.sum())"
   ]
  },
  {
   "cell_type": "code",
   "execution_count": 20,
   "id": "3ab44a63",
   "metadata": {},
   "outputs": [
    {
     "name": "stdout",
     "output_type": "stream",
     "text": [
      "tensor([[0],\n",
      "        [1],\n",
      "        [2]]) tensor([[0, 1]])\n",
      "a + b tensor([[0, 1],\n",
      "        [1, 2],\n",
      "        [2, 3]])\n"
     ]
    }
   ],
   "source": [
    "# 2.1.3 广播机制\n",
    "a = torch.arange(3).reshape(3, 1)\n",
    "b = torch.arange(2).reshape(1, 2)\n",
    "print(a,b)\n",
    "\n",
    "print(\"a + b\", a + b)"
   ]
  },
  {
   "cell_type": "code",
   "execution_count": 23,
   "id": "d35845ba",
   "metadata": {},
   "outputs": [
    {
     "name": "stdout",
     "output_type": "stream",
     "text": [
      "X,Y = tensor([[ 0.,  1.,  2.,  3.],\n",
      "        [ 4.,  5.,  6.,  7.],\n",
      "        [ 8.,  9., 10., 11.]]) tensor([[2., 1., 4., 3.],\n",
      "        [1., 2., 3., 4.],\n",
      "        [4., 3., 2., 1.]])\n",
      "X[0],Y[0] = tensor([0., 1., 2., 3.]) tensor([2., 1., 4., 3.])\n",
      "X[1:3],Y[1:3] = tensor([[ 4.,  5.,  6.,  7.],\n",
      "        [ 8.,  9., 10., 11.]]) tensor([[1., 2., 3., 4.],\n",
      "        [4., 3., 2., 1.]])\n",
      "X[-1],Y[-1] = tensor([ 8.,  9., 10., 11.]) tensor([4., 3., 2., 1.])\n",
      "X[0:2,:]= tensor([[0., 1., 2., 3.],\n",
      "        [4., 5., 6., 7.]])\n"
     ]
    }
   ],
   "source": [
    "#2.1.4 索引和切片\n",
    "print(\"X,Y =\",X,Y)\n",
    "print(\"X[0],Y[0] =\",X[0],Y[0])\n",
    "print(\"X[1:3],Y[1:3] =\",X[1:3],Y[1:3])\n",
    "print(\"X[-1],Y[-1] =\",X[-1],Y[-1])\n",
    "print(\"X[0:2,:]=\",X[0:2,:])\n"
   ]
  },
  {
   "cell_type": "code",
   "execution_count": 25,
   "id": "b84add55",
   "metadata": {},
   "outputs": [
    {
     "name": "stdout",
     "output_type": "stream",
     "text": [
      "False\n",
      "id(Z): 1992008248096\n",
      "id(Z): 1992008248096\n",
      "True\n"
     ]
    }
   ],
   "source": [
    "# 2.1.5 节省内存的技巧\n",
    "before = id(Y)\n",
    "Y = Y + X\n",
    "print(id(Y) == before)  # False\n",
    "\n",
    "Z = torch.zeros_like(Y)\n",
    "print(\"id(Z):\", id(Z)) \n",
    "Z[:] = Y + X\n",
    "print(\"id(Z):\", id(Z))\n",
    "\n",
    "before = id(X)\n",
    "X += Y\n",
    "print(id(X) == before)  # True"
   ]
  },
  {
   "cell_type": "code",
   "execution_count": 27,
   "id": "676c3c34",
   "metadata": {},
   "outputs": [
    {
     "name": "stdout",
     "output_type": "stream",
     "text": [
      "<class 'numpy.ndarray'> <class 'torch.Tensor'>\n",
      "tensor([3.5000]) 3.5 3.5 3\n"
     ]
    }
   ],
   "source": [
    "#2.1.6 转换为其他Python 对象\n",
    "A = X.numpy()\n",
    "B = torch.tensor(A)\n",
    "print(type(A), type(B))\n",
    "\n",
    "a = torch.tensor([3.5])\n",
    "print(a,a.item(),float(a),int(a))"
   ]
  }
 ],
 "metadata": {
  "kernelspec": {
   "display_name": "Python 3",
   "language": "python",
   "name": "python3"
  },
  "language_info": {
   "codemirror_mode": {
    "name": "ipython",
    "version": 3
   },
   "file_extension": ".py",
   "mimetype": "text/x-python",
   "name": "python",
   "nbconvert_exporter": "python",
   "pygments_lexer": "ipython3",
   "version": "3.12.9"
  }
 },
 "nbformat": 4,
 "nbformat_minor": 5
}
