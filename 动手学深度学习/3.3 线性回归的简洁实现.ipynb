{
 "cells": [
  {
   "cell_type": "code",
   "execution_count": 11,
   "id": "7f6a29cc",
   "metadata": {},
   "outputs": [],
   "source": [
    "import numpy as np\n",
    "import torch\n",
    "from torch.utils import data\n",
    "from d2l import torch as d2l"
   ]
  },
  {
   "cell_type": "code",
   "execution_count": 12,
   "id": "353d3e90",
   "metadata": {},
   "outputs": [],
   "source": [
    "# 3.3.1 生成数据集\n",
    "true_w = torch.tensor([2,-3.4])\n",
    "true_b = 4.2\n",
    "\n",
    "features, labels = d2l.synthetic_data(true_w, true_b, 1000)"
   ]
  },
  {
   "cell_type": "code",
   "execution_count": 13,
   "id": "5b6808ee",
   "metadata": {},
   "outputs": [
    {
     "data": {
      "text/plain": [
       "[tensor([[ 1.3082,  0.3957],\n",
       "         [ 1.2106,  1.2573],\n",
       "         [-0.2331, -1.8526],\n",
       "         [ 1.5388, -1.5402],\n",
       "         [-0.0096,  0.0219],\n",
       "         [ 1.1371, -1.3435],\n",
       "         [ 0.4365, -0.0206],\n",
       "         [ 3.0954,  1.3202],\n",
       "         [-1.4765,  1.1669],\n",
       "         [-0.6754,  0.7000]]),\n",
       " tensor([[ 5.4749],\n",
       "         [ 2.3349],\n",
       "         [10.0228],\n",
       "         [12.5145],\n",
       "         [ 4.0897],\n",
       "         [11.0466],\n",
       "         [ 5.1597],\n",
       "         [ 5.9097],\n",
       "         [-2.7296],\n",
       "         [ 0.4512]])]"
      ]
     },
     "execution_count": 13,
     "metadata": {},
     "output_type": "execute_result"
    }
   ],
   "source": [
    "# 3.3.2 读取数据集\n",
    "def load_array(data_arrays, batch_size, is_train=True): #@save\n",
    "    \"\"\"构造一个 PyTorch 数据迭代器。\"\"\"\n",
    "    dataset = data.TensorDataset(*data_arrays)\n",
    "    return data.DataLoader(dataset, batch_size, shuffle=is_train)\n",
    "\n",
    "batch_size = 10\n",
    "data_iter = load_array((features, labels), batch_size)\n",
    "next(iter(data_iter))"
   ]
  },
  {
   "cell_type": "code",
   "execution_count": 14,
   "id": "d5df1dfe",
   "metadata": {},
   "outputs": [],
   "source": [
    "# 3.3.3 定义模型\n",
    "# nn是神经网路的缩写\n",
    "from torch import nn\n",
    "\n",
    "net = nn.Sequential(\n",
    "    nn.Linear(2, 1)\n",
    ")\n",
    "\n",
    "# 3.3.4 初始化模型参数\n",
    "\n",
    "net[0].weight.data.normal_(0, 0.10)\n",
    "net[0].bias.data.fill_(0)\n",
    "\n",
    "# 3.3.5 定义损失函数\n",
    "loss = nn.MSELoss()\n",
    "\n",
    "# 3.3.6 定义优化算法\n",
    "trainer = torch.optim.SGD(net.parameters(), lr=0.03)\n",
    "\n"
   ]
  },
  {
   "cell_type": "code",
   "execution_count": 15,
   "id": "5a17c40b",
   "metadata": {},
   "outputs": [
    {
     "name": "stdout",
     "output_type": "stream",
     "text": [
      "epoch 1, loss: 0.000220\n",
      "epoch 2, loss: 0.000102\n",
      "epoch 3, loss: 0.000102\n"
     ]
    }
   ],
   "source": [
    "# 3.3.7 训练模型\n",
    "num_epochs = 3\n",
    "for epoch in range(num_epochs):\n",
    "    for X, y in data_iter:\n",
    "        l = loss(net(X), y)\n",
    "        trainer.zero_grad()\n",
    "        l.backward()\n",
    "        trainer.step()\n",
    "    l = loss(net(features), labels)\n",
    "    print('epoch %d, loss: %f' % (epoch + 1, l.item()))"
   ]
  },
  {
   "cell_type": "code",
   "execution_count": 16,
   "id": "08921f4f",
   "metadata": {},
   "outputs": [
    {
     "name": "stdout",
     "output_type": "stream",
     "text": [
      "w,b 的训练结果:tensor([[ 2.0002, -3.4015]]),tensor([4.1992])\n",
      "w的估计误差为 tensor([-0.0002,  0.0015])\n",
      "b的估计误差为 tensor([0.0008])\n"
     ]
    }
   ],
   "source": [
    "w = net[0].weight.data\n",
    "b = net[0].bias.data\n",
    "print(f\"w,b 的训练结果:{w},{b}\")\n",
    "print(f'w的估计误差为 {true_w - w.reshape(true_w.shape)}')\n",
    "print(f'b的估计误差为 {true_b - b}')\n"
   ]
  }
 ],
 "metadata": {
  "kernelspec": {
   "display_name": "Python 3",
   "language": "python",
   "name": "python3"
  },
  "language_info": {
   "codemirror_mode": {
    "name": "ipython",
    "version": 3
   },
   "file_extension": ".py",
   "mimetype": "text/x-python",
   "name": "python",
   "nbconvert_exporter": "python",
   "pygments_lexer": "ipython3",
   "version": "3.12.9"
  }
 },
 "nbformat": 4,
 "nbformat_minor": 5
}
