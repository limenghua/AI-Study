{
 "cells": [
  {
   "cell_type": "code",
   "execution_count": 1,
   "id": "c536f096",
   "metadata": {},
   "outputs": [
    {
     "name": "stdout",
     "output_type": "stream",
     "text": [
      "tensor(5.)\n",
      "tensor(1.)\n",
      "tensor(6.)\n",
      "tensor(1.5000)\n",
      "tensor(9.)\n"
     ]
    }
   ],
   "source": [
    "# 2.3.1 标量\n",
    "import torch\n",
    "\n",
    "x = torch.tensor(3.0)\n",
    "y = torch.tensor(2.0)\n",
    "\n",
    "print(x + y)\n",
    "print(x - y)\n",
    "print(x * y)\n",
    "print(x / y)\n",
    "print(x ** y)"
   ]
  },
  {
   "cell_type": "code",
   "execution_count": 6,
   "id": "18150d56",
   "metadata": {},
   "outputs": [
    {
     "name": "stdout",
     "output_type": "stream",
     "text": [
      "tensor([0, 1, 2, 3])\n",
      "torch.Size([4])\n",
      "torch.int64\n",
      "cpu\n",
      "tensor(3)\n",
      "4\n"
     ]
    }
   ],
   "source": [
    "# 2.3.2 向量\n",
    "x = torch.arange(4)\n",
    "print(x) # 输出 [0 1 2 3]\n",
    "print(x.shape) # 输出 torch.Size([4])\n",
    "print(x.dtype) # 输出 torch.int64\n",
    "print(x.device) # 输出 cpu\n",
    "print(x[3]) # 输出 tensor(3)\n",
    "print(len(x)) # 输出 4"
   ]
  },
  {
   "cell_type": "code",
   "execution_count": null,
   "id": "e118848a",
   "metadata": {},
   "outputs": [
    {
     "name": "stdout",
     "output_type": "stream",
     "text": [
      "tensor([[ 0,  1,  2,  3],\n",
      "        [ 4,  5,  6,  7],\n",
      "        [ 8,  9, 10, 11],\n",
      "        [12, 13, 14, 15],\n",
      "        [16, 17, 18, 19]])\n",
      "tensor([[1, 2, 3],\n",
      "        [2, 0, 4],\n",
      "        [3, 4, 5]])\n",
      "tensor([[1, 2, 3],\n",
      "        [2, 0, 4],\n",
      "        [3, 4, 5]])\n"
     ]
    }
   ],
   "source": [
    "# 2.3.3 矩阵\n",
    "A = torch.arange(20).reshape(5, 4)\n",
    "print(A)\n",
    "\n",
    "B = torch.tensor([[1, 2,3], [2,0,4],[3,4, 5]])\n",
    "print(B)\n",
    "print(B.T)\n"
   ]
  },
  {
   "cell_type": "code",
   "execution_count": 9,
   "id": "1716d369",
   "metadata": {},
   "outputs": [
    {
     "name": "stdout",
     "output_type": "stream",
     "text": [
      "tensor([[[ 0,  1,  2,  3],\n",
      "         [ 4,  5,  6,  7],\n",
      "         [ 8,  9, 10, 11]],\n",
      "\n",
      "        [[12, 13, 14, 15],\n",
      "         [16, 17, 18, 19],\n",
      "         [20, 21, 22, 23]]])\n"
     ]
    }
   ],
   "source": [
    "# 2.3.4 张量\n",
    "X = torch.arange(24).reshape(2, 3,4)\n",
    "print(X)"
   ]
  },
  {
   "cell_type": "code",
   "execution_count": 11,
   "id": "6f1294e3",
   "metadata": {},
   "outputs": [
    {
     "name": "stdout",
     "output_type": "stream",
     "text": [
      "tensor([[ 0.,  1.,  2.,  3.],\n",
      "        [ 4.,  5.,  6.,  7.],\n",
      "        [ 8.,  9., 10., 11.],\n",
      "        [12., 13., 14., 15.],\n",
      "        [16., 17., 18., 19.]])\n",
      "tensor([[ 0.,  2.,  4.,  6.],\n",
      "        [ 8., 10., 12., 14.],\n",
      "        [16., 18., 20., 22.],\n",
      "        [24., 26., 28., 30.],\n",
      "        [32., 34., 36., 38.]])\n",
      "tensor([[  0.,   1.,   4.,   9.],\n",
      "        [ 16.,  25.,  36.,  49.],\n",
      "        [ 64.,  81., 100., 121.],\n",
      "        [144., 169., 196., 225.],\n",
      "        [256., 289., 324., 361.]])\n"
     ]
    }
   ],
   "source": [
    "# 2.3.5 张量算法的基本性质\n",
    "A = torch.arange(20,dtype=torch.float32).reshape(5,4)\n",
    "B = A.clone()\n",
    "print(A)\n",
    "print(A + B)\n",
    "print(A * B)"
   ]
  },
  {
   "cell_type": "code",
   "execution_count": 12,
   "id": "04229329",
   "metadata": {},
   "outputs": [
    {
     "name": "stdout",
     "output_type": "stream",
     "text": [
      "tensor([[[ 0,  1,  2,  3],\n",
      "         [ 4,  5,  6,  7],\n",
      "         [ 8,  9, 10, 11]],\n",
      "\n",
      "        [[12, 13, 14, 15],\n",
      "         [16, 17, 18, 19],\n",
      "         [20, 21, 22, 23]]])\n",
      "tensor([[[ 2,  3,  4,  5],\n",
      "         [ 6,  7,  8,  9],\n",
      "         [10, 11, 12, 13]],\n",
      "\n",
      "        [[14, 15, 16, 17],\n",
      "         [18, 19, 20, 21],\n",
      "         [22, 23, 24, 25]]])\n",
      "torch.Size([2, 3, 4])\n"
     ]
    }
   ],
   "source": [
    "a = 2\n",
    "X = torch.arange(24).reshape(2, 3, 4)\n",
    "print(X)\n",
    "print(a + X)\n",
    "print((a + X).shape)"
   ]
  },
  {
   "cell_type": "code",
   "execution_count": 15,
   "id": "b198c621",
   "metadata": {},
   "outputs": [
    {
     "name": "stdout",
     "output_type": "stream",
     "text": [
      "tensor([0., 1., 2., 3.]) tensor(6.)\n",
      "A = tensor([[ 0.,  1.,  2.,  3.],\n",
      "        [ 4.,  5.,  6.,  7.],\n",
      "        [ 8.,  9., 10., 11.],\n",
      "        [12., 13., 14., 15.],\n",
      "        [16., 17., 18., 19.]])\n",
      "A.shape = torch.Size([5, 4])\n",
      "A.sum() = tensor(190.)\n"
     ]
    }
   ],
   "source": [
    "# 2.3.6 降维\n",
    "x = torch.arange(4, dtype=torch.float32)\n",
    "print(x,x.sum())\n",
    "\n",
    "print(\"A =\",A)\n",
    "print(\"A.shape =\",A.shape)\n",
    "print(\"A.sum() =\",A.sum())"
   ]
  },
  {
   "cell_type": "code",
   "execution_count": 18,
   "id": "7ccb18ad",
   "metadata": {},
   "outputs": [
    {
     "name": "stdout",
     "output_type": "stream",
     "text": [
      "tensor([40., 45., 50., 55.])\n",
      "tensor([ 6., 22., 38., 54., 70.])\n",
      "torch.Size([4])\n",
      "torch.Size([5])\n"
     ]
    }
   ],
   "source": [
    "A_sum_axis0 = A.sum( axis=0)\n",
    "A_sum_axis1 = A.sum( axis=1)\n",
    "print(A_sum_axis0)\n",
    "print(A_sum_axis1)\n",
    "print(A_sum_axis0.shape)\n",
    "print(A_sum_axis1.shape)"
   ]
  },
  {
   "cell_type": "code",
   "execution_count": 21,
   "id": "290a9502",
   "metadata": {},
   "outputs": [
    {
     "name": "stdout",
     "output_type": "stream",
     "text": [
      "tensor([[ 6.],\n",
      "        [22.],\n",
      "        [38.],\n",
      "        [54.],\n",
      "        [70.]])\n",
      "tensor([[0.0000, 0.1667, 0.3333, 0.5000],\n",
      "        [0.1818, 0.2273, 0.2727, 0.3182],\n",
      "        [0.2105, 0.2368, 0.2632, 0.2895],\n",
      "        [0.2222, 0.2407, 0.2593, 0.2778],\n",
      "        [0.2286, 0.2429, 0.2571, 0.2714]])\n",
      "tensor([[ 0.,  1.,  2.,  3.],\n",
      "        [ 4.,  6.,  8., 10.],\n",
      "        [12., 15., 18., 21.],\n",
      "        [24., 28., 32., 36.],\n",
      "        [40., 45., 50., 55.]])\n"
     ]
    }
   ],
   "source": [
    "sum_A = A.sum(axis=1,keepdims=True)\n",
    "print(sum_A)\n",
    "print(A / sum_A)\n",
    "print(A.cumsum(axis=0)) # 累积求和"
   ]
  },
  {
   "cell_type": "code",
   "execution_count": 22,
   "id": "90584882",
   "metadata": {},
   "outputs": [
    {
     "name": "stdout",
     "output_type": "stream",
     "text": [
      "tensor([0., 1., 2., 3.]) tensor([1., 1., 1., 1.])\n",
      "tensor(6.)\n"
     ]
    }
   ],
   "source": [
    "# 2.3.7 点积\n",
    "y = torch.ones(4, dtype=torch.float32)\n",
    "print(x,y)\n",
    "z = torch.dot(x, y)\n",
    "print(z)"
   ]
  },
  {
   "cell_type": "code",
   "execution_count": 25,
   "id": "59793031",
   "metadata": {},
   "outputs": [
    {
     "name": "stdout",
     "output_type": "stream",
     "text": [
      "torch.Size([5, 4]) torch.Size([4])\n",
      "A= tensor([[ 0.,  1.,  2.,  3.],\n",
      "        [ 4.,  5.,  6.,  7.],\n",
      "        [ 8.,  9., 10., 11.],\n",
      "        [12., 13., 14., 15.],\n",
      "        [16., 17., 18., 19.]])\n",
      "x= tensor([0., 1., 2., 3.])\n",
      "Ax= tensor([ 14.,  38.,  62.,  86., 110.])\n",
      "A@x= tensor([ 14.,  38.,  62.,  86., 110.])\n"
     ]
    }
   ],
   "source": [
    "# 2.3.8 矩阵-向量积\n",
    "print(A.shape,x.shape)\n",
    "print(\"A=\",A)\n",
    "print(\"x=\",x)\n",
    "print(\"Ax=\",torch.mv(A,x))\n",
    "print(\"A@x=\",A@x)"
   ]
  },
  {
   "cell_type": "code",
   "execution_count": 27,
   "id": "492f207d",
   "metadata": {},
   "outputs": [
    {
     "name": "stdout",
     "output_type": "stream",
     "text": [
      "A =  tensor([[ 0.,  1.,  2.,  3.],\n",
      "        [ 4.,  5.,  6.,  7.],\n",
      "        [ 8.,  9., 10., 11.],\n",
      "        [12., 13., 14., 15.],\n",
      "        [16., 17., 18., 19.]])\n",
      "B =  tensor([[1., 1., 1.],\n",
      "        [1., 1., 1.],\n",
      "        [1., 1., 1.],\n",
      "        [1., 1., 1.]])\n",
      "A * B =  tensor([[ 6.,  6.,  6.],\n",
      "        [22., 22., 22.],\n",
      "        [38., 38., 38.],\n",
      "        [54., 54., 54.],\n",
      "        [70., 70., 70.]])\n",
      "A @ B =  tensor([[ 6.,  6.,  6.],\n",
      "        [22., 22., 22.],\n",
      "        [38., 38., 38.],\n",
      "        [54., 54., 54.],\n",
      "        [70., 70., 70.]])\n"
     ]
    }
   ],
   "source": [
    "# 2.3.9 矩阵乘法\n",
    "B = torch.ones(4, 3)\n",
    "print(\"A = \", A)\n",
    "print(\"B = \", B)\n",
    "print(\"A * B = \", torch.mm(A, B))\n",
    "print(\"A @ B = \", A @ B)"
   ]
  },
  {
   "cell_type": "code",
   "execution_count": 30,
   "id": "66423776",
   "metadata": {},
   "outputs": [
    {
     "name": "stdout",
     "output_type": "stream",
     "text": [
      "tensor(5.)\n",
      "tensor(7.)\n",
      "tensor(5.)\n",
      "tensor(4.4979)\n"
     ]
    }
   ],
   "source": [
    "# 2.3.10 范数\n",
    "u = torch.tensor([3.0, -4.0])\n",
    "print(torch.norm(u))  # 5.0 默认 L2 范数\n",
    "print(torch.norm(u, 1))  # 7.0 L1 范数\n",
    "print(torch.norm(u, 2))  # 5.0 L2 范数\n",
    "print(torch.norm(u, 3))  # 5.385164807134504 L3 范数"
   ]
  }
 ],
 "metadata": {
  "kernelspec": {
   "display_name": "Python 3",
   "language": "python",
   "name": "python3"
  },
  "language_info": {
   "codemirror_mode": {
    "name": "ipython",
    "version": 3
   },
   "file_extension": ".py",
   "mimetype": "text/x-python",
   "name": "python",
   "nbconvert_exporter": "python",
   "pygments_lexer": "ipython3",
   "version": "3.12.9"
  }
 },
 "nbformat": 4,
 "nbformat_minor": 5
}
