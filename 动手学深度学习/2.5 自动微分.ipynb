{
 "cells": [
  {
   "cell_type": "markdown",
   "id": "fe978767",
   "metadata": {},
   "source": [
    "\\begin{array}{c}   \n",
    "y=2x^{T}x  \\\\   \n",
    "f'(x) = 4x\n",
    "\\end{array}"
   ]
  },
  {
   "cell_type": "code",
   "execution_count": 2,
   "id": "1dd47f9a",
   "metadata": {},
   "outputs": [
    {
     "name": "stdout",
     "output_type": "stream",
     "text": [
      "tensor([0., 1., 2., 3.], requires_grad=True)\n",
      "tensor([ 0.,  4.,  8., 12.])\n",
      "tensor([True, True, True, True])\n",
      "tensor([1., 1., 1., 1.])\n"
     ]
    }
   ],
   "source": [
    "# 2.5.1 简单例子\n",
    "import torch\n",
    "\n",
    "x = torch.arange(4.0, requires_grad=True)\n",
    "print(x)\n",
    "y = 2 * torch.dot(x, x)\n",
    "y.backward()\n",
    "print(x.grad)  # tensor([4., 4.])\n",
    "print(x.grad == 4 * x)  # tensor([True, True, True, True])\n",
    "\n",
    "# 现在计算x 的另一个函数\n",
    "# 需要清除上一个计算的梯度\n",
    "x.grad.zero_()\n",
    "y = x.sum()\n",
    "y.backward()\n",
    "print(x.grad)  # tensor([1.])"
   ]
  },
  {
   "cell_type": "code",
   "execution_count": 3,
   "id": "daeb9377",
   "metadata": {},
   "outputs": [
    {
     "name": "stdout",
     "output_type": "stream",
     "text": [
      "tensor([0., 1., 4., 9.], grad_fn=<MulBackward0>)\n",
      "tensor(14., grad_fn=<SumBackward0>)\n",
      "tensor([True, True, True, True])\n"
     ]
    }
   ],
   "source": [
    "# 2.5.2 非标量的反向传播\n",
    "# 本例只想求偏导数的和，所以传递一个1的梯度是合适的\n",
    "x.grad.zero_()\n",
    "y = x * x\n",
    "print(y)  # tensor([0., 1., 4., 9.], grad_fn=<MulBackward0>)\n",
    "z = y.sum()\n",
    "print(z)  # tensor(20., grad_fn=<SumBackward0>)\n",
    "z.backward()\n",
    "print(x.grad == 2 * x)  # tensor([ True,  True,  True,  True])\n"
   ]
  },
  {
   "cell_type": "code",
   "execution_count": 5,
   "id": "d27c833b",
   "metadata": {},
   "outputs": [
    {
     "name": "stdout",
     "output_type": "stream",
     "text": [
      "tensor([True, True, True, True])\n",
      "tensor([True, True, True, True])\n"
     ]
    }
   ],
   "source": [
    "# 2.5.3 分离计算\n",
    "x.grad.zero_()\n",
    "y = x * x\n",
    "u = y.detach()  # u 是一个新的变量，和 y 指向同一块内存\n",
    "z = u * x  # z 和 y 没有关系了\n",
    "z.sum().backward()\n",
    "print(x.grad == u)  # 输出：tensor([2.])\n",
    "\n",
    "x.grad.zero_()\n",
    "y.sum().backward()  # 计算 y 的梯度\n",
    "print(x.grad == 2 * x)  # 输出：tensor([2.])"
   ]
  },
  {
   "cell_type": "code",
   "execution_count": 8,
   "id": "017366b1",
   "metadata": {},
   "outputs": [
    {
     "name": "stdout",
     "output_type": "stream",
     "text": [
      "a= tensor(-1.9469, requires_grad=True)\n",
      "d= tensor(-199364.0156, grad_fn=<MulBackward0>)\n",
      "a.grad= tensor(102400.)\n",
      "tensor(True)\n"
     ]
    }
   ],
   "source": [
    "# 2.5.4 Python 控制流的梯度计算\n",
    "def f(a):\n",
    "    b = a * 2\n",
    "    while b.norm() < 1000:\n",
    "        b = b * 2\n",
    "    if b.sum() > 0:\n",
    "        c = b\n",
    "    else:\n",
    "        c = 100 * b\n",
    "    return c\n",
    "\n",
    "# 我们来计算f(a) 的梯度\n",
    "a = torch.randn(size=(), requires_grad=True)\n",
    "d = f(a)\n",
    "d.backward()\n",
    "print(\"a=\", a)  # 输出：a= tensor(0.0000)\n",
    "print(\"d=\", d)\n",
    "print(\"a.grad=\", a.grad)  # 输出：a.grad= tensor(0.0000)\n",
    "print(a.grad == d/a) # 输出：tensor(0.0000)"
   ]
  }
 ],
 "metadata": {
  "kernelspec": {
   "display_name": "Python 3",
   "language": "python",
   "name": "python3"
  },
  "language_info": {
   "codemirror_mode": {
    "name": "ipython",
    "version": 3
   },
   "file_extension": ".py",
   "mimetype": "text/x-python",
   "name": "python",
   "nbconvert_exporter": "python",
   "pygments_lexer": "ipython3",
   "version": "3.12.9"
  }
 },
 "nbformat": 4,
 "nbformat_minor": 5
}
