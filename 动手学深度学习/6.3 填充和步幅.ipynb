{
 "cells": [
  {
   "cell_type": "code",
   "execution_count": 1,
   "id": "528f3c72",
   "metadata": {},
   "outputs": [],
   "source": [
    "import os\n",
    "os.environ['KMP_DUPLICATE_LIB_OK'] = 'True'  # 解决matplotlib报错的问题"
   ]
  },
  {
   "cell_type": "code",
   "execution_count": 2,
   "id": "2fe53db3",
   "metadata": {},
   "outputs": [],
   "source": [
    "import torch\n",
    "from torch import nn"
   ]
  },
  {
   "cell_type": "code",
   "execution_count": 4,
   "id": "6e5f6468",
   "metadata": {},
   "outputs": [
    {
     "name": "stdout",
     "output_type": "stream",
     "text": [
      "torch.Size([8, 8])\n"
     ]
    }
   ],
   "source": [
    "# 为了方便起见，我们定义一个计算卷积的函数\n",
    "# 此函数初始化卷积层的权重，并对输入和输出扩大和缩减相应的维数\n",
    "\n",
    "def comp_conv2d(conv2d, X):\n",
    "    # 这里(1,1)表示批量大小和通道数都是1\n",
    "    X = X.reshape((1, 1) + X.shape)\n",
    "    Y = conv2d(X)\n",
    "    # 去掉批量和通道维度\n",
    "    return Y.reshape(Y.shape[2:])\n",
    "\n",
    "# 注意，这里每侧边都填充了1行或1列，因此总共添加了2行或2列\n",
    "conv2d = nn.Conv2d(1, 1, kernel_size=3, padding=1)\n",
    "X = torch.rand(8, 8)\n",
    "Y= comp_conv2d(conv2d, X)\n",
    "print(Y.shape) "
   ]
  },
  {
   "cell_type": "code",
   "execution_count": 5,
   "id": "31ab4b9f",
   "metadata": {},
   "outputs": [
    {
     "data": {
      "text/plain": [
       "torch.Size([8, 8])"
      ]
     },
     "execution_count": 5,
     "metadata": {},
     "output_type": "execute_result"
    }
   ],
   "source": [
    "conv2d = nn.Conv2d(1, 1, kernel_size=(5,3), padding=(2,1))\n",
    "comp_conv2d(conv2d, X).shape"
   ]
  },
  {
   "cell_type": "code",
   "execution_count": null,
   "id": "5afa1414",
   "metadata": {},
   "outputs": [],
   "source": [
    "# 6.3.2 步幅\n"
   ]
  }
 ],
 "metadata": {
  "kernelspec": {
   "display_name": "Python 3",
   "language": "python",
   "name": "python3"
  },
  "language_info": {
   "codemirror_mode": {
    "name": "ipython",
    "version": 3
   },
   "file_extension": ".py",
   "mimetype": "text/x-python",
   "name": "python",
   "nbconvert_exporter": "python",
   "pygments_lexer": "ipython3",
   "version": "3.12.9"
  }
 },
 "nbformat": 4,
 "nbformat_minor": 5
}
