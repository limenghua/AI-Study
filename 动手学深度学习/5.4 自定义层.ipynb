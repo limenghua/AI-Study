{
 "cells": [
  {
   "cell_type": "code",
   "execution_count": 1,
   "id": "dcab68e5",
   "metadata": {},
   "outputs": [],
   "source": [
    "import os\n",
    "os.environ['KMP_DUPLICATE_LIB_OK'] = 'True'  # 解决matplotlib报错的问题"
   ]
  },
  {
   "cell_type": "code",
   "execution_count": 2,
   "id": "6bb776cf",
   "metadata": {},
   "outputs": [],
   "source": [
    "# 5.4.1 不带参数的层\n",
    "import torch\n",
    "import torch.nn.functional as F\n",
    "from torch import nn"
   ]
  },
  {
   "cell_type": "code",
   "execution_count": 3,
   "id": "c3d094ce",
   "metadata": {},
   "outputs": [],
   "source": [
    "class CenteredLayer(nn.Module):\n",
    "    def __init__(self):\n",
    "        super(CenteredLayer, self).__init__()\n",
    "\n",
    "    def forward(self, x):\n",
    "        return x - x.mean()"
   ]
  },
  {
   "cell_type": "code",
   "execution_count": 4,
   "id": "01c71f88",
   "metadata": {},
   "outputs": [
    {
     "data": {
      "text/plain": [
       "tensor([[-2.5000, -1.5000, -0.5000],\n",
       "        [ 0.5000,  1.5000,  2.5000]])"
      ]
     },
     "execution_count": 4,
     "metadata": {},
     "output_type": "execute_result"
    }
   ],
   "source": [
    "layer = CenteredLayer()\n",
    "layer(torch.FloatTensor([[1.0, 2.0, 3.0], [4.0, 5.0, 6.0]]))"
   ]
  },
  {
   "cell_type": "code",
   "execution_count": 5,
   "id": "0b6e2772",
   "metadata": {},
   "outputs": [
    {
     "data": {
      "text/plain": [
       "tensor(-2.3283e-09, grad_fn=<MeanBackward0>)"
      ]
     },
     "execution_count": 5,
     "metadata": {},
     "output_type": "execute_result"
    }
   ],
   "source": [
    "net = nn.Sequential(\n",
    "    nn.Linear(8, 128),\n",
    "    CenteredLayer()\n",
    ")\n",
    "\n",
    "y = net(torch.rand(4, 8))\n",
    "y.mean()"
   ]
  },
  {
   "cell_type": "code",
   "execution_count": 6,
   "id": "c238b6e9",
   "metadata": {},
   "outputs": [],
   "source": [
    "# 5.4.2 带参数的层\n",
    "\n",
    "class MyLayer(nn.Module):\n",
    "    def __init__(self, in_features, out_features):\n",
    "        super(MyLayer, self).__init__()\n",
    "        self.weight = nn.Parameter(torch.randn(in_features, out_features))\n",
    "        self.bias = nn.Parameter(torch.randn(out_features))\n",
    "\n",
    "    def forward(self, x):\n",
    "        linear = torch.matmul(x, self.weight.data) + self.bias.data\n",
    "        return F.relu(linear)"
   ]
  },
  {
   "cell_type": "code",
   "execution_count": 7,
   "id": "71af4f4b",
   "metadata": {},
   "outputs": [
    {
     "data": {
      "text/plain": [
       "Parameter containing:\n",
       "tensor([[-0.7741, -0.6900, -1.9964],\n",
       "        [ 2.2275,  0.8036, -1.1823],\n",
       "        [-1.1161,  0.1822, -0.1972],\n",
       "        [ 0.2185, -0.0029, -0.4530],\n",
       "        [ 1.1977,  0.7610, -0.5518]], requires_grad=True)"
      ]
     },
     "execution_count": 7,
     "metadata": {},
     "output_type": "execute_result"
    }
   ],
   "source": [
    "linear = MyLayer(5, 3)\n",
    "linear.weight"
   ]
  },
  {
   "cell_type": "code",
   "execution_count": 8,
   "id": "f2f36f15",
   "metadata": {},
   "outputs": [
    {
     "data": {
      "text/plain": [
       "tensor([[0.3751, 0.2528, 0.0000],\n",
       "        [0.0000, 0.0000, 0.0000]])"
      ]
     },
     "execution_count": 8,
     "metadata": {},
     "output_type": "execute_result"
    }
   ],
   "source": [
    "linear(torch.rand(2,5))"
   ]
  },
  {
   "cell_type": "code",
   "execution_count": 9,
   "id": "30c95304",
   "metadata": {},
   "outputs": [
    {
     "data": {
      "text/plain": [
       "tensor([[1.1457],\n",
       "        [0.0000]])"
      ]
     },
     "execution_count": 9,
     "metadata": {},
     "output_type": "execute_result"
    }
   ],
   "source": [
    "net = nn.Sequential(MyLayer(64,8),MyLayer(8,1))\n",
    "net(torch.randn(2,64))"
   ]
  }
 ],
 "metadata": {
  "kernelspec": {
   "display_name": "Python 3",
   "language": "python",
   "name": "python3"
  },
  "language_info": {
   "codemirror_mode": {
    "name": "ipython",
    "version": 3
   },
   "file_extension": ".py",
   "mimetype": "text/x-python",
   "name": "python",
   "nbconvert_exporter": "python",
   "pygments_lexer": "ipython3",
   "version": "3.12.9"
  }
 },
 "nbformat": 4,
 "nbformat_minor": 5
}
