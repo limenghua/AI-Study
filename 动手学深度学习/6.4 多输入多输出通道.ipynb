{
 "cells": [
  {
   "cell_type": "code",
   "execution_count": 1,
   "id": "fd16bd4d",
   "metadata": {},
   "outputs": [],
   "source": [
    "import os\n",
    "os.environ['KMP_DUPLICATE_LIB_OK'] = 'True'  # 解决matplotlib报错的问题"
   ]
  },
  {
   "cell_type": "code",
   "execution_count": 2,
   "id": "1ca89433",
   "metadata": {},
   "outputs": [],
   "source": [
    "import torch\n",
    "from d2l import torch as d2l"
   ]
  },
  {
   "cell_type": "code",
   "execution_count": null,
   "id": "a4cbeb29",
   "metadata": {},
   "outputs": [],
   "source": [
    "# 6.4.1 多输入通道\n",
    "def corr2d_multi_in(X, K):\n",
    "    # 先遍历X和K的第0维（通道维），然后再把结果加起来\n",
    "    return sum(d2l.corr2d(x,k) for x,k in zip(X,K))"
   ]
  },
  {
   "cell_type": "code",
   "execution_count": 4,
   "id": "403084f7",
   "metadata": {},
   "outputs": [
    {
     "data": {
      "text/plain": [
       "tensor([[ 56.,  72.],\n",
       "        [104., 120.]])"
      ]
     },
     "execution_count": 4,
     "metadata": {},
     "output_type": "execute_result"
    }
   ],
   "source": [
    "X = torch.tensor([[[0,1,2],[3,4,5],[6,7,8]],[[1,2,3],[4,5,6],[7,8,9]]], dtype=torch.float32)\n",
    "K = torch.tensor([[[0,1],[2,3]],[[1,2],[3,4]]], dtype=torch.float32)\n",
    "corr2d_multi_in(X, K)"
   ]
  },
  {
   "cell_type": "code",
   "execution_count": 5,
   "id": "97e830c7",
   "metadata": {},
   "outputs": [],
   "source": [
    "# 6.4.2 多输出通道\n",
    "def corr2d_multi_in_out(X, K):\n",
    "    # 迭代第0个维度，每次都对X 执行相关运算\n",
    "    # 最后所有结果都加到一起\n",
    "    return torch.stack([corr2d_multi_in(X,k) for k in K])"
   ]
  },
  {
   "cell_type": "code",
   "execution_count": 6,
   "id": "4d111464",
   "metadata": {},
   "outputs": [
    {
     "data": {
      "text/plain": [
       "torch.Size([3, 2, 2, 2])"
      ]
     },
     "execution_count": 6,
     "metadata": {},
     "output_type": "execute_result"
    }
   ],
   "source": [
    "K = torch.stack((K,K+1,K+2),0)\n",
    "K.shape"
   ]
  },
  {
   "cell_type": "code",
   "execution_count": 7,
   "id": "caaf6147",
   "metadata": {},
   "outputs": [
    {
     "data": {
      "text/plain": [
       "tensor([[[ 56.,  72.],\n",
       "         [104., 120.]],\n",
       "\n",
       "        [[ 76., 100.],\n",
       "         [148., 172.]],\n",
       "\n",
       "        [[ 96., 128.],\n",
       "         [192., 224.]]])"
      ]
     },
     "execution_count": 7,
     "metadata": {},
     "output_type": "execute_result"
    }
   ],
   "source": [
    "corr2d_multi_in_out(X,K)"
   ]
  },
  {
   "cell_type": "code",
   "execution_count": 8,
   "id": "585b86d6",
   "metadata": {},
   "outputs": [],
   "source": [
    "# 6.4.3 1x1卷积层\n",
    "def corr2d_multi_in_out_1x1(X, K):\n",
    "    c_i, h, w = X.shape\n",
    "    c_o = K.shape[0]\n",
    "    X = X.reshape((c_i, h * w))\n",
    "    K = K.reshape((c_o, c_i))\n",
    "    # 全连接层的矩阵乘法\n",
    "    Y = torch.matmul(K, X)\n",
    "    return Y.reshape((c_o, h, w))"
   ]
  },
  {
   "cell_type": "code",
   "execution_count": 9,
   "id": "f1bdae41",
   "metadata": {},
   "outputs": [
    {
     "name": "stdout",
     "output_type": "stream",
     "text": [
      "torch.Size([2, 3, 3]) torch.Size([2, 3, 3])\n",
      "tensor([[[-2.2720e-01, -1.3081e+00,  9.7149e-01],\n",
      "         [-4.3355e-01, -7.6837e-01,  2.9656e-01],\n",
      "         [ 2.2298e-01,  7.6581e-01, -6.0509e-01]],\n",
      "\n",
      "        [[-5.3562e+00, -2.1743e+00, -2.0443e+00],\n",
      "         [ 2.0288e-03, -5.4697e-01, -2.5934e+00],\n",
      "         [ 1.9186e+00,  5.0683e+00, -3.1617e+00]]])\n",
      "tensor([[[-2.2720e-01, -1.3081e+00,  9.7149e-01],\n",
      "         [-4.3355e-01, -7.6837e-01,  2.9656e-01],\n",
      "         [ 2.2298e-01,  7.6581e-01, -6.0509e-01]],\n",
      "\n",
      "        [[-5.3562e+00, -2.1743e+00, -2.0443e+00],\n",
      "         [ 2.0288e-03, -5.4697e-01, -2.5934e+00],\n",
      "         [ 1.9186e+00,  5.0683e+00, -3.1617e+00]]])\n"
     ]
    }
   ],
   "source": [
    "X = torch.normal(0, 1, (3, 3, 3),dtype=torch.float32)\n",
    "K = torch.normal(0, 1, (2, 3, 1, 1),dtype=torch.float32)\n",
    "\n",
    "Y1 = corr2d_multi_in_out_1x1(X,K)\n",
    "Y2 = corr2d_multi_in_out(X,K)\n",
    "print(Y1.shape,Y2.shape)\n",
    "print(Y1)\n",
    "print(Y2)\n",
    "assert(float(torch.abs(Y1-Y2).sum())<1e-6)"
   ]
  }
 ],
 "metadata": {
  "kernelspec": {
   "display_name": "Python 3",
   "language": "python",
   "name": "python3"
  },
  "language_info": {
   "codemirror_mode": {
    "name": "ipython",
    "version": 3
   },
   "file_extension": ".py",
   "mimetype": "text/x-python",
   "name": "python",
   "nbconvert_exporter": "python",
   "pygments_lexer": "ipython3",
   "version": "3.12.9"
  }
 },
 "nbformat": 4,
 "nbformat_minor": 5
}
