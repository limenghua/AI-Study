{
 "cells": [
  {
   "cell_type": "markdown",
   "metadata": {},
   "source": [
    "# 对亚洲球队进行聚类分析"
   ]
  },
  {
   "cell_type": "code",
   "execution_count": 1,
   "metadata": {},
   "outputs": [],
   "source": [
    "import pandas as pd\n",
    "import numpy as np"
   ]
  },
  {
   "cell_type": "code",
   "execution_count": 4,
   "metadata": {},
   "outputs": [],
   "source": [
    "df = pd.read_csv('data/football_team_data.csv',index_col='国家')\n",
    "X = df.values\n"
   ]
  },
  {
   "cell_type": "code",
   "execution_count": 5,
   "metadata": {},
   "outputs": [
    {
     "name": "stdout",
     "output_type": "stream",
     "text": [
      "[[-0.5842676   0.05223517 -0.64677721]\n",
      " [-0.97679881 -2.12423024 -1.03291285]\n",
      " [-0.9466041  -1.77599577 -1.61211632]\n",
      " [-1.76186121 -1.86305439 -0.83984503]\n",
      " [-0.76543585 -1.16658546 -0.06757374]\n",
      " [-0.04076286  0.05223517 -1.22598067]\n",
      " [ 0.26118422  0.05223517  0.51162973]\n",
      " [-0.34270994  0.05223517 -0.83984503]\n",
      " [-0.13134698  0.05223517 -0.45370938]\n",
      " [ 0.89527309  0.05223517  1.28390102]\n",
      " [ 0.29137893  0.92282133  1.28390102]\n",
      " [-0.16154169  0.92282133  0.31856191]\n",
      " [ 0.71410485  0.92282133  0.12549408]\n",
      " [ 0.5329366   0.92282133  0.70469755]\n",
      " [ 2.16345083  0.92282133  1.28390102]\n",
      " [-1.58069297 -0.81835099 -1.80518414]\n",
      " [-0.49368348  0.05223517  1.28390102]\n",
      " [ 0.77449426  0.92282133 -0.26064156]\n",
      " [ 2.042672    0.92282133  0.89776537]\n",
      " [ 0.11021068  0.92282133  1.0908332 ]]\n"
     ]
    }
   ],
   "source": [
    "# 对特征进行归一化\n",
    "from sklearn.preprocessing import StandardScaler\n",
    "X = StandardScaler().fit_transform(X)\n",
    "print(X)"
   ]
  },
  {
   "cell_type": "code",
   "execution_count": 7,
   "metadata": {},
   "outputs": [
    {
     "name": "stdout",
     "output_type": "stream",
     "text": [
      "        2019国际排名  2018世界杯  2015亚洲杯  聚类结果\n",
      "国家                                      \n",
      "中国            73       40        7     2\n",
      "日本            60       15        5     1\n",
      "韩国            61       19        2     1\n",
      "伊朗            34       18        6     1\n",
      "沙特            67       26       10     1\n",
      "伊拉克           91       40        4     2\n",
      "卡塔尔          101       40       13     0\n",
      "阿联酋           81       40        6     2\n",
      "乌兹别克斯坦        88       40        8     2\n",
      "泰国           122       40       17     0\n",
      "越南           102       50       17     0\n",
      "阿曼            87       50       12     0\n",
      "巴林           116       50       11     0\n",
      "朝鲜           110       50       14     0\n",
      "印尼           164       50       17     0\n",
      "澳洲            40       30        1     1\n",
      "叙利亚           76       40       17     0\n",
      "约旦           118       50        9     0\n",
      "科威特          160       50       15     0\n",
      "巴勒斯坦          96       50       16     0\n"
     ]
    },
    {
     "name": "stderr",
     "output_type": "stream",
     "text": [
      "c:\\ProgramData\\anaconda3\\Lib\\site-packages\\sklearn\\cluster\\_kmeans.py:1429: UserWarning: KMeans is known to have a memory leak on Windows with MKL, when there are less chunks than available threads. You can avoid it by setting the environment variable OMP_NUM_THREADS=1.\n",
      "  warnings.warn(\n"
     ]
    }
   ],
   "source": [
    "# 创建模型\n",
    "from sklearn.cluster import KMeans\n",
    "model = KMeans(n_clusters=3, max_iter=1000, random_state=0)\n",
    "model.fit(X)\n",
    "\n",
    "df[\"聚类结果\"] = model.labels_\n",
    "print(df)"
   ]
  }
 ],
 "metadata": {
  "kernelspec": {
   "display_name": "base",
   "language": "python",
   "name": "python3"
  },
  "language_info": {
   "codemirror_mode": {
    "name": "ipython",
    "version": 3
   },
   "file_extension": ".py",
   "mimetype": "text/x-python",
   "name": "python",
   "nbconvert_exporter": "python",
   "pygments_lexer": "ipython3",
   "version": "3.12.7"
  }
 },
 "nbformat": 4,
 "nbformat_minor": 2
}
