{
 "cells": [
  {
   "cell_type": "markdown",
   "metadata": {},
   "source": [
    "# 决策树代码实现"
   ]
  },
  {
   "cell_type": "code",
   "execution_count": 44,
   "metadata": {},
   "outputs": [],
   "source": [
    "import numpy as np\n",
    "import operator"
   ]
  },
  {
   "cell_type": "code",
   "execution_count": 45,
   "metadata": {},
   "outputs": [],
   "source": [
    "def loaddata():\n",
    "    dataSet = [[0,0,0,0,'no'],\n",
    "               [0,0,0,1,'no'],\n",
    "               [0,1,0,1,'yes'],\n",
    "               [0,1,1,0,'yes'],\n",
    "               [0,0,0,0,'no'],\n",
    "               [1,0,0,0,'no'],\n",
    "               [1,0,0,1,'no'],\n",
    "               [1,1,1,1,'yes'],\n",
    "               [1,0,1,2,'yes'],\n",
    "               [1,0,1,2,'yes'],\n",
    "               [2,0,1,2,'yes'],\n",
    "               [2,0,1,1,'yes'],\n",
    "               [2,1,0,1,'yes'],\n",
    "               [2,1,0,2,'yes'],\n",
    "               [2,0,0,0,'no']]\n",
    "    featureNames = ['age','job','hosuse','credit','class']\n",
    "    return dataSet, featureNames"
   ]
  },
  {
   "cell_type": "markdown",
   "metadata": {},
   "source": [
    "### 计算数据集的熵\n",
    "<img src=\"images/02.png\" width=\"200\" align=\"left\"/>"
   ]
  },
  {
   "cell_type": "code",
   "execution_count": 46,
   "metadata": {},
   "outputs": [],
   "source": [
    "from math import log2\n",
    "from collections import Counter\n",
    "def entropy(dataSet):\n",
    "    \"\"\"\n",
    "    计算信息熵\n",
    "    :param y: 标签列表\n",
    "    :return: 信息熵\n",
    "    \"\"\"\n",
    "    if(isinstance(dataSet[0],list)):\n",
    "        dataSet = [example[-1] for example in dataSet]\n",
    "    counter = Counter(dataSet)\n",
    "\n",
    "    total_count = len(dataSet)\n",
    "    entropy = 0.0\n",
    "    for count in counter.values():\n",
    "        p = count / total_count\n",
    "        entropy -= p * log2(p)\n",
    "    return entropy"
   ]
  },
  {
   "cell_type": "markdown",
   "metadata": {},
   "source": [
    "# 划分数据集"
   ]
  },
  {
   "cell_type": "code",
   "execution_count": 47,
   "metadata": {},
   "outputs": [],
   "source": [
    "def splitDataSet(dataSet, axis, value):\n",
    "    retDataSet = []\n",
    "    for featVec in dataSet:\n",
    "        if featVec[axis] == value:\n",
    "            reducedFeatVec = featVec[:axis]\n",
    "            reducedFeatVec.extend(featVec[axis+1:])\n",
    "            retDataSet.append(reducedFeatVec)\n",
    "    return retDataSet\n",
    "\n"
   ]
  },
  {
   "cell_type": "markdown",
   "metadata": {},
   "source": [
    "### 选择最好的特征\n",
    "<img src=\"images/03.png\" width=\"400\" align=\"left\"/>"
   ]
  },
  {
   "cell_type": "code",
   "execution_count": 48,
   "metadata": {},
   "outputs": [],
   "source": [
    "def chooseBestFeature(dataSet):\n",
    "    n = len(dataSet[0]) - 1\n",
    "    baseEntropy = entropy(dataSet)\n",
    "    bestInfoGain = 0.0\n",
    "    bestFeature = -1\n",
    "    for i in range(n):\n",
    "        featList = [example[i] for example in dataSet]\n",
    "        uniqueVals = set(featList)\n",
    "        newEntropy = 0.0\n",
    "        for value in uniqueVals:\n",
    "            subDataSet = splitDataSet(dataSet, i, value)\n",
    "            prob = len(subDataSet) / float(len(dataSet))\n",
    "            newEntropy += prob * entropy(subDataSet)\n",
    "        infoGain = baseEntropy - newEntropy\n",
    "        if (infoGain > bestInfoGain):\n",
    "            bestInfoGain = infoGain\n",
    "            bestFeature = i\n",
    "    return bestFeature\n",
    "\n"
   ]
  },
  {
   "cell_type": "markdown",
   "metadata": {},
   "source": [
    "# 类别的投票表决"
   ]
  },
  {
   "cell_type": "code",
   "execution_count": 49,
   "metadata": {},
   "outputs": [],
   "source": [
    "def classVote(classList):\n",
    "    \"\"\"\n",
    "    计算classList中出现次数最多的类别\n",
    "    \"\"\"\n",
    "    classCount = {}\n",
    "    for vote in classList:\n",
    "        if vote not in classCount:\n",
    "            classCount[vote] = 0\n",
    "        classCount[vote] += 1\n",
    "    sortedClassCount = sorted(classCount.items(), key=lambda x: x[1], reverse=True)\n",
    "    return sortedClassCount[0][0]"
   ]
  },
  {
   "cell_type": "code",
   "execution_count": 50,
   "metadata": {},
   "outputs": [
    {
     "data": {
      "text/plain": [
       "'yes'"
      ]
     },
     "execution_count": 50,
     "metadata": {},
     "output_type": "execute_result"
    }
   ],
   "source": [
    "classList = ['yes','no','yes','no','yes','no','yes','no','yes','no']\n",
    "classVote(classList)"
   ]
  },
  {
   "cell_type": "markdown",
   "metadata": {},
   "source": [
    "# 递归训练决策树"
   ]
  },
  {
   "cell_type": "code",
   "execution_count": 51,
   "metadata": {},
   "outputs": [],
   "source": [
    "def trainTree(dataSet,featureNames):\n",
    "    classList = [example[-1] for example in dataSet]\n",
    "    if classList.count(classList[0]) == len(classList):\n",
    "        return classList[0]\n",
    "    if len(dataSet[0]) == 1:\n",
    "        return classVote(classList)\n",
    "    bestFeat = chooseBestFeature(dataSet)\n",
    "    bestFeatName = featureNames[bestFeat]\n",
    "    myTree = {bestFeatName:{}}\n",
    "    #del(featureNames[bestFeat])\n",
    "    featValues = [example[bestFeat] for example in dataSet]\n",
    "    uniqueVals = set(featValues)\n",
    "    for value in uniqueVals:\n",
    "        subFeatureName = featureNames[:]\n",
    "        subLabels = splitDataSet(dataSet,bestFeat,value)\n",
    "        myTree[bestFeatName][value] = trainTree(subLabels,subFeatureName)\n",
    "    return myTree"
   ]
  },
  {
   "cell_type": "code",
   "execution_count": 52,
   "metadata": {},
   "outputs": [
    {
     "name": "stdout",
     "output_type": "stream",
     "text": [
      "{'hosuse': {0: {'job': {0: 'no', 1: 'yes'}}, 1: 'yes'}}\n"
     ]
    }
   ],
   "source": [
    "dataSet,featureNames = loaddata()\n",
    "myTree = trainTree(dataSet,featureNames)\n",
    "print(myTree)"
   ]
  },
  {
   "cell_type": "code",
   "execution_count": 55,
   "metadata": {},
   "outputs": [],
   "source": [
    "def predict(inputTree,featureNames,testVec):    \n",
    "    firstStr = list(inputTree.keys())[0]\n",
    "    print(\"inputTree.keys():\",firstStr)\n",
    "    secondDict = inputTree[firstStr]\n",
    "    featIndex = featureNames.index(firstStr)\n",
    "    key = testVec[featIndex]\n",
    "    valueOfFeat = secondDict[key]\n",
    "    if isinstance(valueOfFeat,dict):\n",
    "        classLabel = predict(valueOfFeat,featureNames,testVec)\n",
    "    else:\n",
    "        classLabel = valueOfFeat\n",
    "    return classLabel"
   ]
  },
  {
   "cell_type": "code",
   "execution_count": 58,
   "metadata": {},
   "outputs": [],
   "source": [
    "from math import log2\n",
    "from collections import Counter\n",
    "class DecisionTree:\n",
    "    def __init__(self):\n",
    "        self.tree = None\n",
    "        self.featureNames = []\n",
    "\n",
    "    def entropy(self,dataSet):\n",
    "        \"\"\"\n",
    "        计算信息熵\n",
    "        :param y: 标签列表\n",
    "        :return: 信息熵\n",
    "        \"\"\"\n",
    "        if(isinstance(dataSet[0],list)):\n",
    "            dataSet = [example[-1] for example in dataSet]\n",
    "        counter = Counter(dataSet)\n",
    "\n",
    "        total_count = len(dataSet)\n",
    "        entropy = 0.0\n",
    "        for count in counter.values():\n",
    "            p = count / total_count\n",
    "            entropy -= p * log2(p)\n",
    "        return entropy\n",
    "    \n",
    "    def splitDataSet(self,dataSet, axis, value):\n",
    "        retDataSet = []\n",
    "        for featVec in dataSet:\n",
    "            if featVec[axis] == value:\n",
    "                reducedFeatVec = featVec[:axis]\n",
    "                reducedFeatVec.extend(featVec[axis+1:])\n",
    "                retDataSet.append(reducedFeatVec)\n",
    "        return retDataSet\n",
    "    \n",
    "    def chooseBestFeature(self,dataSet):\n",
    "        n = len(dataSet[0]) - 1\n",
    "        baseEntropy = self.entropy(dataSet)\n",
    "        bestInfoGain = 0.0\n",
    "        bestFeature = -1\n",
    "        for i in range(n):\n",
    "            featList = [example[i] for example in dataSet]\n",
    "            uniqueVals = set(featList)\n",
    "            newEntropy = 0.0\n",
    "            for value in uniqueVals:\n",
    "                subDataSet = self.splitDataSet(dataSet, i, value)\n",
    "                prob = len(subDataSet) / float(len(dataSet))\n",
    "                newEntropy += prob * self.entropy(subDataSet)\n",
    "            infoGain = baseEntropy - newEntropy\n",
    "            if (infoGain > bestInfoGain):\n",
    "                bestInfoGain = infoGain\n",
    "                bestFeature = i\n",
    "        return bestFeature    \n",
    "\n",
    "    def classVote(self,classList):\n",
    "        \"\"\"\n",
    "        计算classList中出现次数最多的类别\n",
    "        \"\"\"\n",
    "        classCount = {}\n",
    "        for vote in classList:\n",
    "            if vote not in classCount:\n",
    "                classCount[vote] = 0\n",
    "            classCount[vote] += 1\n",
    "        sortedClassCount = sorted(classCount.items(), key=lambda x: x[1], reverse=True)\n",
    "        return sortedClassCount[0][0]\n",
    "    \n",
    "    def trainTree(self,dataSet,featureNames):\n",
    "        classList = [example[-1] for example in dataSet]\n",
    "        if classList.count(classList[0]) == len(classList):\n",
    "            return classList[0]\n",
    "        if len(dataSet[0]) == 1:\n",
    "            return self.classVote(classList)\n",
    "        bestFeat = self.chooseBestFeature(dataSet)\n",
    "        bestFeatName = featureNames[bestFeat]\n",
    "        myTree = {bestFeatName:{}}\n",
    "        #del(featureNames[bestFeat])\n",
    "        featValues = [example[bestFeat] for example in dataSet]\n",
    "        uniqueVals = set(featValues)\n",
    "        for value in uniqueVals:\n",
    "            subFeatureName = featureNames[:]\n",
    "            subLabels = self.splitDataSet(dataSet,bestFeat,value)\n",
    "            myTree[bestFeatName][value] = self.trainTree(subLabels,subFeatureName)\n",
    "        return myTree    \n",
    "    \n",
    "    def fit(self,dataSet,featureNames):\n",
    "        self.featureNames = featureNames\n",
    "        self.tree = self.trainTree(dataSet,featureNames)\n",
    "\n",
    "    def predict(self,testVec):\n",
    "        inputTree = self.tree\n",
    "        featureNames = self.featureNames\n",
    "        firstStr = list(inputTree.keys())[0]\n",
    "        print(\"inputTree.keys():\",firstStr)\n",
    "        secondDict = inputTree[firstStr]\n",
    "        featIndex = featureNames.index(firstStr)\n",
    "        key = testVec[featIndex]\n",
    "        valueOfFeat = secondDict[key]\n",
    "        if isinstance(valueOfFeat,dict):\n",
    "            classLabel = predict(valueOfFeat,featureNames,testVec)\n",
    "        else:\n",
    "            classLabel = valueOfFeat\n",
    "        return classLabel\n",
    "\n",
    "\n"
   ]
  },
  {
   "cell_type": "code",
   "execution_count": 59,
   "metadata": {},
   "outputs": [
    {
     "name": "stdout",
     "output_type": "stream",
     "text": [
      "inputTree.keys(): hosuse\n",
      "inputTree.keys(): job\n"
     ]
    },
    {
     "data": {
      "text/plain": [
       "'yes'"
      ]
     },
     "execution_count": 59,
     "metadata": {},
     "output_type": "execute_result"
    }
   ],
   "source": [
    "model = DecisionTree()\n",
    "dataSet,featureNames = loaddata()\n",
    "model.fit(dataSet,featureNames)\n",
    "model.predict([1,1,0,1])"
   ]
  }
 ],
 "metadata": {
  "kernelspec": {
   "display_name": "base",
   "language": "python",
   "name": "python3"
  },
  "language_info": {
   "codemirror_mode": {
    "name": "ipython",
    "version": 3
   },
   "file_extension": ".py",
   "mimetype": "text/x-python",
   "name": "python",
   "nbconvert_exporter": "python",
   "pygments_lexer": "ipython3",
   "version": "3.12.7"
  }
 },
 "nbformat": 4,
 "nbformat_minor": 2
}
