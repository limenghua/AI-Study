{
 "cells": [
  {
   "cell_type": "markdown",
   "metadata": {},
   "source": [
    "# 朴素贝叶斯算法实现\n",
    "<img src=\"images/bayes.png\"  align=\"left\"/>"
   ]
  },
  {
   "cell_type": "code",
   "execution_count": 22,
   "metadata": {},
   "outputs": [],
   "source": [
    "#朴素贝叶斯算法实现\n",
    "import numpy as np\n",
    "\n",
    "def load_data():\n",
    "    \"\"\"\n",
    "    加载数据\n",
    "    \"\"\"\n",
    "    X = np.array([[1,'S'],[1,'M'],[1,'M'],[1,'S'],\n",
    "         [1, 'S'], [2, 'S'], [2, 'M'], [2, 'M'],\n",
    "         [2, 'L'], [2, 'L'], [3, 'L'], [3, 'M'],\n",
    "         [3, 'M'], [3, 'L'], [3, 'L']])\n",
    "    y = np.array([-1,-1,1,1,-1,-1,-1,1,1,1,1,1,1,1,-1])\n",
    "    return X, y\n",
    "\n"
   ]
  },
  {
   "cell_type": "markdown",
   "metadata": {},
   "source": [
    "### 训练，计算各个概率值\n",
    "<img src=\"images/01.png\" width=\"400\" align=\"left\"/>\n"
   ]
  },
  {
   "cell_type": "code",
   "execution_count": 23,
   "metadata": {},
   "outputs": [],
   "source": [
    "#朴素贝叶斯算法实现\n",
    "import numpy as np\n",
    "# 封装成一个类\n",
    "class NaiveBayesClassifier:\n",
    "    def __init__(self):\n",
    "        self.prior_prob = {}\n",
    "        self.cond_prob = {}\n",
    "\n",
    "    def fit(self,X,y):\n",
    "        n = X.shape[0]  # 训练数据集的样本数\n",
    "        m = X.shape[1]  # 训练数据集的特征数\n",
    "        labels = set(y)  # 标签集合\n",
    "        # 计算先验概率\n",
    "        prior_prob = {}\n",
    "        for label in labels:\n",
    "            prior_prob[label] = np.sum(y == label) \n",
    "        # 计算条件概率\n",
    "        cond_prob = {}\n",
    "        for i in range(m):\n",
    "            cond_prob[i] = {}\n",
    "            for label in labels:\n",
    "                cond_prob[i][label] = {}\n",
    "                for value in set(X[:, i]):\n",
    "                    cond_prob[i][label][value] = (X[y == label, i] == value).sum() / prior_prob[label]\n",
    "        \n",
    "        for label in labels:\n",
    "            prior_prob[label] = np.sum(y == label) / n\n",
    "\n",
    "        self.prior_prob = prior_prob\n",
    "        self.cond_prob = cond_prob  \n",
    "    def predict(self, test_data):\n",
    "        \"\"\"\n",
    "        预测测试数据集的标签\n",
    "        :param test_data: 测试数据集\n",
    "        :return: 测试数据集的标签\n",
    "        \"\"\"\n",
    "        result = []\n",
    "        for i in range(len(test_data)):\n",
    "            label_prob = {}\n",
    "            for label in set(train_label):\n",
    "                prob = self.prior_prob[label]\n",
    "                for j in range(len(test_data[i])):\n",
    "                    prob *= self.cond_prob[j][label][test_data[i][j]]\n",
    "                label_prob[label] = prob\n",
    "            result.append(max(label_prob, key=label_prob.get))\n",
    "        return result"
   ]
  },
  {
   "cell_type": "code",
   "execution_count": 24,
   "metadata": {},
   "outputs": [
    {
     "name": "stdout",
     "output_type": "stream",
     "text": [
      "[-1, -1, -1, -1, -1, -1, 1, 1, 1, 1, 1, 1, 1, 1, 1]\n"
     ]
    }
   ],
   "source": [
    "X,y = load_data()\n",
    "model = NaiveBayesClassifier()\n",
    "model.fit(X,y)\n",
    "pred = model.predict(X)\n",
    "print(pred)"
   ]
  }
 ],
 "metadata": {
  "kernelspec": {
   "display_name": "base",
   "language": "python",
   "name": "python3"
  },
  "language_info": {
   "codemirror_mode": {
    "name": "ipython",
    "version": 3
   },
   "file_extension": ".py",
   "mimetype": "text/x-python",
   "name": "python",
   "nbconvert_exporter": "python",
   "pygments_lexer": "ipython3",
   "version": "3.12.7"
  }
 },
 "nbformat": 4,
 "nbformat_minor": 2
}
