{
 "cells": [
  {
   "cell_type": "markdown",
   "metadata": {},
   "source": [
    "# 使用朴素贝叶斯算法实现垃圾邮件识别\n",
    "\n",
    "<img src=\"images/mail.png\"  align=\"left\"/>\n",
    "\n"
   ]
  },
  {
   "cell_type": "code",
   "execution_count": 37,
   "metadata": {},
   "outputs": [],
   "source": [
    "import numpy as np"
   ]
  },
  {
   "cell_type": "code",
   "execution_count": 38,
   "metadata": {},
   "outputs": [],
   "source": [
    "import re\n",
    "class WordDecoder():\n",
    "    def __init__(self,bag_of_word=True):\n",
    "        self.word_dict = {}\n",
    "        self.total_count = 0\n",
    "        self.bag_of_word = bag_of_word\n",
    "        \n",
    "    def TextParse(self, text):\n",
    "        words = re.split(r'\\W+', text)\n",
    "        return [word.lower() for word in words if len(word) > 2]\n",
    "    \n",
    "    def BuildWordDict(self, X):\n",
    "        vecaSet = set()\n",
    "        for text in X:\n",
    "            words = self.TextParse(text)\n",
    "            for word in words:\n",
    "                vecaSet.add(word)\n",
    "        \n",
    "        sorted_vec = sorted(list(vecaSet))\n",
    "        self.total_count = len(sorted_vec)\n",
    "        for i, word in enumerate(sorted_vec):\n",
    "            self.word_dict[word] = i \n",
    "\n",
    "    def BagOfWord2Vec(self, text):\n",
    "        words = self.TextParse(text)\n",
    "        vec = [0] * self.total_count\n",
    "        for word in words:\n",
    "            if word in self.word_dict:\n",
    "                vec[self.word_dict[word]] += 1\n",
    "        return vec\n",
    "    \n",
    "    def SetOfWord2Vec(self, text):\n",
    "        words = self.TextParse(text)\n",
    "        vec = [0] * self.total_count\n",
    "        for word in words:\n",
    "            if word in self.word_dict:\n",
    "                vec[self.word_dict[word]] = 1\n",
    "        return vec\n",
    "    \n",
    "    def Word2Vec(self, text):\n",
    "        if self.bag_of_word:\n",
    "            return self.BagOfWord2Vec(text)\n",
    "        else:\n",
    "            return self.SetOfWord2Vec(text)\n",
    "                \n",
    "    \n",
    "    def fit_transform(self, X):\n",
    "        self.word_dict = {}\n",
    "        self.total_count = 0\n",
    "        self.BuildWordDict(X)\n",
    "        result = []\n",
    "        for text in X:\n",
    "            vec = self.Word2Vec(text)\n",
    "            result.append(vec)\n",
    "        return result"
   ]
  },
  {
   "cell_type": "code",
   "execution_count": 39,
   "metadata": {},
   "outputs": [
    {
     "name": "stdout",
     "output_type": "stream",
     "text": [
      "[[5, 2, 1, 1, 1, 2, 4, 1, 1, 1, 2, 1, 1, 1, 1, 2]]\n"
     ]
    }
   ],
   "source": [
    "decoder = WordDecoder()\n",
    "with open('data/email/spam/1.txt', 'r', encoding='utf-8') as f:\n",
    "    spam_words = f.read()\n",
    "    print(decoder.fit_transform([spam_words]))"
   ]
  },
  {
   "cell_type": "code",
   "execution_count": null,
   "metadata": {},
   "outputs": [],
   "source": [
    "import os\n",
    "def load_data(folder):\n",
    "    # 加载数据\n",
    "    X = []\n",
    "    y = []\n",
    "    hamfolder = os.path.join(folder, 'ham')\n",
    "    for item in os.listdir(hamfolder):\n",
    "        if item.endswith('.txt'):\n",
    "            with open(os.path.join(hamfolder, item), 'r') as f:\n",
    "                print('loading ham emails:'+ item)\n",
    "                text = f.read()\n",
    "                X.append(text)\n",
    "                y.append(0)\n",
    "\n",
    "    spamfolder = os.path.join(folder,'spam')\n",
    "    for item in os.listdir(spamfolder):\n",
    "        if item.endswith('.txt'):\n",
    "            with open(os.path.join(spamfolder, item), 'r') as f:\n",
    "                print('loading ham emails:'+ item)\n",
    "                text = f.read()\n",
    "                X.append(text)\n",
    "                y.append(1)\n",
    "    return X, y\n",
    "\n",
    "# 加载数据"
   ]
  },
  {
   "cell_type": "code",
   "execution_count": 41,
   "metadata": {},
   "outputs": [
    {
     "name": "stdout",
     "output_type": "stream",
     "text": [
      "loading ham emails:1.txt\n",
      "loading ham emails:10.txt\n",
      "loading ham emails:11.txt\n",
      "loading ham emails:12.txt\n",
      "loading ham emails:13.txt\n",
      "loading ham emails:14.txt\n",
      "loading ham emails:15.txt\n",
      "loading ham emails:16.txt\n",
      "loading ham emails:17.txt\n",
      "loading ham emails:18.txt\n",
      "loading ham emails:19.txt\n",
      "loading ham emails:2.txt\n",
      "loading ham emails:20.txt\n",
      "loading ham emails:21.txt\n",
      "loading ham emails:22.txt\n",
      "loading ham emails:23.txt\n",
      "loading ham emails:24.txt\n",
      "loading ham emails:25.txt\n",
      "loading ham emails:3.txt\n",
      "loading ham emails:4.txt\n",
      "loading ham emails:5.txt\n",
      "loading ham emails:6.txt\n",
      "loading ham emails:7.txt\n",
      "loading ham emails:8.txt\n",
      "loading ham emails:9.txt\n"
     ]
    },
    {
     "ename": "UnicodeDecodeError",
     "evalue": "'utf-8' codec can't decode byte 0x92 in position 66: invalid start byte",
     "output_type": "error",
     "traceback": [
      "\u001b[1;31m---------------------------------------------------------------------------\u001b[0m",
      "\u001b[1;31mUnicodeDecodeError\u001b[0m                        Traceback (most recent call last)",
      "Cell \u001b[1;32mIn[41], line 1\u001b[0m\n\u001b[1;32m----> 1\u001b[0m X,y \u001b[38;5;241m=\u001b[39m load_data(\u001b[38;5;124m\"\u001b[39m\u001b[38;5;124mdata/email\u001b[39m\u001b[38;5;124m\"\u001b[39m)\n\u001b[0;32m      2\u001b[0m X,y\n",
      "Cell \u001b[1;32mIn[40], line 19\u001b[0m, in \u001b[0;36mload_data\u001b[1;34m(folder)\u001b[0m\n\u001b[0;32m     17\u001b[0m \u001b[38;5;28;01mif\u001b[39;00m item\u001b[38;5;241m.\u001b[39mendswith(\u001b[38;5;124m'\u001b[39m\u001b[38;5;124m.txt\u001b[39m\u001b[38;5;124m'\u001b[39m):\n\u001b[0;32m     18\u001b[0m     \u001b[38;5;28;01mwith\u001b[39;00m \u001b[38;5;28mopen\u001b[39m(os\u001b[38;5;241m.\u001b[39mpath\u001b[38;5;241m.\u001b[39mjoin(spamfolder, item), \u001b[38;5;124m'\u001b[39m\u001b[38;5;124mr\u001b[39m\u001b[38;5;124m'\u001b[39m) \u001b[38;5;28;01mas\u001b[39;00m f:\n\u001b[1;32m---> 19\u001b[0m         text \u001b[38;5;241m=\u001b[39m f\u001b[38;5;241m.\u001b[39mread()\n\u001b[0;32m     20\u001b[0m         X\u001b[38;5;241m.\u001b[39mappend(text)\n\u001b[0;32m     21\u001b[0m         y\u001b[38;5;241m.\u001b[39mappend(\u001b[38;5;241m1\u001b[39m)\n",
      "File \u001b[1;32m<frozen codecs>:322\u001b[0m, in \u001b[0;36mdecode\u001b[1;34m(self, input, final)\u001b[0m\n",
      "\u001b[1;31mUnicodeDecodeError\u001b[0m: 'utf-8' codec can't decode byte 0x92 in position 66: invalid start byte"
     ]
    }
   ],
   "source": [
    "X,y = load_data(\"data/email\")\n",
    "X,y"
   ]
  }
 ],
 "metadata": {
  "kernelspec": {
   "display_name": "base",
   "language": "python",
   "name": "python3"
  },
  "language_info": {
   "codemirror_mode": {
    "name": "ipython",
    "version": 3
   },
   "file_extension": ".py",
   "mimetype": "text/x-python",
   "name": "python",
   "nbconvert_exporter": "python",
   "pygments_lexer": "ipython3",
   "version": "3.12.7"
  }
 },
 "nbformat": 4,
 "nbformat_minor": 2
}
