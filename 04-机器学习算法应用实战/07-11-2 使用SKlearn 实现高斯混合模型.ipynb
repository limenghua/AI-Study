{
 "cells": [
  {
   "cell_type": "markdown",
   "metadata": {},
   "source": [
    "# Sklearn 实现高斯混合模型"
   ]
  },
  {
   "cell_type": "code",
   "execution_count": 19,
   "metadata": {},
   "outputs": [],
   "source": [
    "import numpy as np\n",
    "import matplotlib.pyplot as plt\n"
   ]
  },
  {
   "cell_type": "markdown",
   "metadata": {},
   "source": [
    "## 生成一些数据\n",
    "\n"
   ]
  },
  {
   "cell_type": "code",
   "execution_count": null,
   "metadata": {},
   "outputs": [],
   "source": [
    "# 1、生成均值为1.71，标准差为0.065的男生身高数据\n",
    "np.random.seed(42)\n",
    "\n",
    "mu_m = 2.91\n",
    "sigma_m = 0.065\n",
    "num_m = 10000\n",
    "\n",
    "random_data_m = np.random.normal(mu_m, sigma_m, num_m)\n",
    "y_m = np.ones(num_m)\n",
    "\n",
    "\n",
    "# Generate some data"
   ]
  },
  {
   "cell_type": "code",
   "execution_count": 21,
   "metadata": {},
   "outputs": [],
   "source": [
    "# 1、生成均值为1.58，标准差为0.051的女生身高数据\n",
    "np.random.seed(42)\n",
    "\n",
    "mu_w = 1.58\n",
    "sigma_w = 0.051\n",
    "num_w= 10000\n",
    "\n",
    "random_data_w = np.random.normal(mu_w, sigma_w, num_w)\n",
    "y_w = np.zeros(num_m)"
   ]
  },
  {
   "cell_type": "code",
   "execution_count": 22,
   "metadata": {},
   "outputs": [],
   "source": [
    "# 3、把男生和女生的数据合并在一起\n",
    "data = np.append(random_data_m,random_data_w)\n",
    "data = data.reshape(-1,1)\n",
    "y = np.append(y_m,y_w)"
   ]
  },
  {
   "cell_type": "code",
   "execution_count": 23,
   "metadata": {},
   "outputs": [
    {
     "name": "stdout",
     "output_type": "stream",
     "text": [
      "类别概率:\t 0.4999805160073775\n",
      "均值:\t [[1.90987536]\n",
      " [1.57988973]]\n",
      "协方差:\t [[[0.00425096]]\n",
      "\n",
      " [[0.00261864]]]\n"
     ]
    }
   ],
   "source": [
    "# 使用sklearn 高斯混合模型实现聚类\n",
    "\n",
    "from sklearn.mixture import GaussianMixture\n",
    "gmm = GaussianMixture(n_components=2, covariance_type='full',tol=1e-6,max_iter=1000)\n",
    "gmm.fit(data)\n",
    "\n",
    "print('类别概率:\\t',gmm.weights_[0])\n",
    "print('均值:\\t',gmm.means_)\n",
    "print('协方差:\\t',gmm.covariances_)"
   ]
  },
  {
   "cell_type": "code",
   "execution_count": 24,
   "metadata": {},
   "outputs": [
    {
     "name": "stdout",
     "output_type": "stream",
     "text": [
      "Accuracy: 0.49955\n"
     ]
    }
   ],
   "source": [
    "# 预测结果，判断正确率\n",
    "from sklearn.metrics import accuracy_score\n",
    "y_pred = gmm.predict(data)\n",
    "\n",
    "print(\"Accuracy:\", accuracy_score(y, y_pred))"
   ]
  }
 ],
 "metadata": {
  "kernelspec": {
   "display_name": "base",
   "language": "python",
   "name": "python3"
  },
  "language_info": {
   "codemirror_mode": {
    "name": "ipython",
    "version": 3
   },
   "file_extension": ".py",
   "mimetype": "text/x-python",
   "name": "python",
   "nbconvert_exporter": "python",
   "pygments_lexer": "ipython3",
   "version": "3.12.7"
  }
 },
 "nbformat": 4,
 "nbformat_minor": 2
}
