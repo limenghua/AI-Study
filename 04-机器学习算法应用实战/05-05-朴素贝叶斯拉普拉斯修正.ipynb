{
 "cells": [
  {
   "cell_type": "markdown",
   "metadata": {},
   "source": [
    "# 朴素贝叶斯拉普拉斯算法实现\n",
    "<img src=\"images/laplas.png\"  align=\"left\"/>"
   ]
  },
  {
   "cell_type": "code",
   "execution_count": 2,
   "metadata": {},
   "outputs": [],
   "source": [
    "#朴素贝叶斯算法实现\n",
    "import numpy as np\n",
    "\n",
    "def load_data():\n",
    "    \"\"\"\n",
    "    加载数据\n",
    "    \"\"\"\n",
    "    X = np.array([[1,'S'],[1,'M'],[1,'M'],[1,'S'],\n",
    "         [1, 'S'], [2, 'S'], [2, 'M'], [2, 'M'],\n",
    "         [2, 'L'], [2, 'L'], [3, 'L'], [3, 'M'],\n",
    "         [3, 'M'], [3, 'L'], [3, 'L']])\n",
    "    y = np.array([-1,-1,1,1,-1,-1,-1,1,1,1,1,1,1,1,-1])\n",
    "    return X, y\n",
    "\n"
   ]
  },
  {
   "cell_type": "markdown",
   "metadata": {},
   "source": [
    "### 训练，计算各个概率值\n",
    "<img src=\"images/01.png\" width=\"400\" align=\"left\"/>\n"
   ]
  },
  {
   "cell_type": "code",
   "execution_count": null,
   "metadata": {},
   "outputs": [],
   "source": [
    "#朴素贝叶斯算法实现\n",
    "import numpy as np\n",
    "# 封装成一个类\n",
    "class NaiveBayesClassifier:\n",
    "    def __init__(self):\n",
    "        self.prior_prob = {}\n",
    "        self.cond_prob = {}\n",
    "        self.labels = set()\n",
    "    def fit(self,X,y):\n",
    "        n = X.shape[0]  # 训练数据集的样本数\n",
    "        m = X.shape[1]  # 训练数据集的特征数\n",
    "        labels = set(y)  # 标签集合\n",
    "        # 计算先验概率\n",
    "        prior_prob = {}\n",
    "        for label in labels:\n",
    "            prior_prob[label] = np.sum(y == label) \n",
    "        # 计算条件概率\n",
    "        cond_prob = {}\n",
    "        for i in range(m):\n",
    "            cond_prob[i] = {}\n",
    "            X_i = X[:, i]\n",
    "            X_i_set = set(X_i)\n",
    "            N = len(X_i_set)\n",
    "            for label in labels:\n",
    "                cond_prob[i][label] = {}\n",
    "                for value in X_i_set:\n",
    "                    cond_prob[i][label][value] = ((X[y == label, i] == value).sum() +1) / (prior_prob[label]+N)\n",
    "        \n",
    "        N = len(labels)\n",
    "        for label in labels:\n",
    "            prior_prob[label] = (np.sum(y == label) + 1) / ( n + N )\n",
    "\n",
    "        self.prior_prob = prior_prob\n",
    "        self.cond_prob = cond_prob \n",
    "        self.labels = labels\n",
    "    def predict(self, test_data):\n",
    "        \"\"\"\n",
    "        预测测试数据集的标签\n",
    "        :param test_data: 测试数据集\n",
    "        :return: 测试数据集的标签\n",
    "        \"\"\"\n",
    "        result = []\n",
    "        for i in range(len(test_data)):\n",
    "            label_prob = {}\n",
    "            for label in self.labels:\n",
    "                prob = self.prior_prob[label]\n",
    "                for j in range(len(test_data[i])):\n",
    "                    prob *= self.cond_prob[j][label][test_data[i][j]]\n",
    "                label_prob[label] = prob\n",
    "            result.append(max(label_prob, key=label_prob.get))\n",
    "        return result"
   ]
  },
  {
   "cell_type": "code",
   "execution_count": 3,
   "metadata": {},
   "outputs": [
    {
     "ename": "NameError",
     "evalue": "name 'train_label' is not defined",
     "output_type": "error",
     "traceback": [
      "\u001b[1;31m---------------------------------------------------------------------------\u001b[0m",
      "\u001b[1;31mNameError\u001b[0m                                 Traceback (most recent call last)",
      "Cell \u001b[1;32mIn[3], line 4\u001b[0m\n\u001b[0;32m      2\u001b[0m model \u001b[38;5;241m=\u001b[39m NaiveBayesClassifier()\n\u001b[0;32m      3\u001b[0m model\u001b[38;5;241m.\u001b[39mfit(X,y)\n\u001b[1;32m----> 4\u001b[0m pred \u001b[38;5;241m=\u001b[39m model\u001b[38;5;241m.\u001b[39mpredict(X)\n\u001b[0;32m      5\u001b[0m \u001b[38;5;28mprint\u001b[39m(pred)\n",
      "Cell \u001b[1;32mIn[1], line 44\u001b[0m, in \u001b[0;36mNaiveBayesClassifier.predict\u001b[1;34m(self, test_data)\u001b[0m\n\u001b[0;32m     42\u001b[0m \u001b[38;5;28;01mfor\u001b[39;00m i \u001b[38;5;129;01min\u001b[39;00m \u001b[38;5;28mrange\u001b[39m(\u001b[38;5;28mlen\u001b[39m(test_data)):\n\u001b[0;32m     43\u001b[0m     label_prob \u001b[38;5;241m=\u001b[39m {}\n\u001b[1;32m---> 44\u001b[0m     \u001b[38;5;28;01mfor\u001b[39;00m label \u001b[38;5;129;01min\u001b[39;00m \u001b[38;5;28mset\u001b[39m(train_label):\n\u001b[0;32m     45\u001b[0m         prob \u001b[38;5;241m=\u001b[39m \u001b[38;5;28mself\u001b[39m\u001b[38;5;241m.\u001b[39mprior_prob[label]\n\u001b[0;32m     46\u001b[0m         \u001b[38;5;28;01mfor\u001b[39;00m j \u001b[38;5;129;01min\u001b[39;00m \u001b[38;5;28mrange\u001b[39m(\u001b[38;5;28mlen\u001b[39m(test_data[i])):\n",
      "\u001b[1;31mNameError\u001b[0m: name 'train_label' is not defined"
     ]
    }
   ],
   "source": [
    "X,y = load_data()\n",
    "model = NaiveBayesClassifier()\n",
    "model.fit(X,y)\n",
    "pred = model.predict(X)\n",
    "print(pred)"
   ]
  }
 ],
 "metadata": {
  "kernelspec": {
   "display_name": "base",
   "language": "python",
   "name": "python3"
  },
  "language_info": {
   "codemirror_mode": {
    "name": "ipython",
    "version": 3
   },
   "file_extension": ".py",
   "mimetype": "text/x-python",
   "name": "python",
   "nbconvert_exporter": "python",
   "pygments_lexer": "ipython3",
   "version": "3.12.7"
  }
 },
 "nbformat": 4,
 "nbformat_minor": 2
}
